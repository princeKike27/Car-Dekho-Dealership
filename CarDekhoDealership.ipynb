{
  "nbformat": 4,
  "nbformat_minor": 0,
  "metadata": {
    "colab": {
      "name": "CarDekhoDealership.ipynb",
      "provenance": [],
      "collapsed_sections": [],
      "authorship_tag": "ABX9TyNNzydXgVf2QG10qd8ljpB1",
      "include_colab_link": true
    },
    "kernelspec": {
      "name": "python3",
      "display_name": "Python 3"
    },
    "language_info": {
      "name": "python"
    }
  },
  "cells": [
    {
      "cell_type": "markdown",
      "metadata": {
        "id": "view-in-github",
        "colab_type": "text"
      },
      "source": [
        "<a href=\"https://colab.research.google.com/github/princeKike27/Car-Dekho-Dealership/blob/main/CarDekhoDealership.ipynb\" target=\"_parent\"><img src=\"https://colab.research.google.com/assets/colab-badge.svg\" alt=\"Open In Colab\"/></a>"
      ]
    },
    {
      "cell_type": "markdown",
      "metadata": {
        "id": "AtJNS3j2LIbd"
      },
      "source": [
        "# Car Dekho Dealership\n",
        "\n",
        "For this project ....."
      ]
    },
    {
      "cell_type": "code",
      "metadata": {
        "id": "Wb2Ns7CfLRKi"
      },
      "source": [
        "# import modules\n",
        "import pandas as pd\n",
        "import numpy as np\n",
        "import matplotlib.pyplot as plt\n",
        "import seaborn as sns"
      ],
      "execution_count": 404,
      "outputs": []
    },
    {
      "cell_type": "code",
      "metadata": {
        "colab": {
          "base_uri": "https://localhost:8080/",
          "height": 206
        },
        "id": "PVT0NwJ7Mc4A",
        "outputId": "a9bca2e9-f975-496a-95ac-449d5c5d2414"
      },
      "source": [
        "# load dataset\n",
        "df = pd.read_csv('https://raw.githubusercontent.com/princeKike27/Car-Dekho-Dealership/main/car_dekho_dealer.csv')\n",
        "\n",
        "df.head()"
      ],
      "execution_count": 405,
      "outputs": [
        {
          "output_type": "execute_result",
          "data": {
            "text/html": [
              "<div>\n",
              "<style scoped>\n",
              "    .dataframe tbody tr th:only-of-type {\n",
              "        vertical-align: middle;\n",
              "    }\n",
              "\n",
              "    .dataframe tbody tr th {\n",
              "        vertical-align: top;\n",
              "    }\n",
              "\n",
              "    .dataframe thead th {\n",
              "        text-align: right;\n",
              "    }\n",
              "</style>\n",
              "<table border=\"1\" class=\"dataframe\">\n",
              "  <thead>\n",
              "    <tr style=\"text-align: right;\">\n",
              "      <th></th>\n",
              "      <th>name</th>\n",
              "      <th>year</th>\n",
              "      <th>selling_price</th>\n",
              "      <th>km_driven</th>\n",
              "      <th>fuel</th>\n",
              "      <th>seller_type</th>\n",
              "      <th>transmission</th>\n",
              "      <th>owner</th>\n",
              "    </tr>\n",
              "  </thead>\n",
              "  <tbody>\n",
              "    <tr>\n",
              "      <th>0</th>\n",
              "      <td>Maruti 800 AC</td>\n",
              "      <td>2007</td>\n",
              "      <td>60000</td>\n",
              "      <td>70000</td>\n",
              "      <td>Petrol</td>\n",
              "      <td>Individual</td>\n",
              "      <td>Manual</td>\n",
              "      <td>First Owner</td>\n",
              "    </tr>\n",
              "    <tr>\n",
              "      <th>1</th>\n",
              "      <td>Maruti Wagon R LXI Minor</td>\n",
              "      <td>2007</td>\n",
              "      <td>135000</td>\n",
              "      <td>50000</td>\n",
              "      <td>Petrol</td>\n",
              "      <td>Individual</td>\n",
              "      <td>Manual</td>\n",
              "      <td>First Owner</td>\n",
              "    </tr>\n",
              "    <tr>\n",
              "      <th>2</th>\n",
              "      <td>Hyundai Verna 1.6 SX</td>\n",
              "      <td>2012</td>\n",
              "      <td>600000</td>\n",
              "      <td>100000</td>\n",
              "      <td>Diesel</td>\n",
              "      <td>Individual</td>\n",
              "      <td>Manual</td>\n",
              "      <td>First Owner</td>\n",
              "    </tr>\n",
              "    <tr>\n",
              "      <th>3</th>\n",
              "      <td>Datsun RediGO T Option</td>\n",
              "      <td>2017</td>\n",
              "      <td>250000</td>\n",
              "      <td>46000</td>\n",
              "      <td>Petrol</td>\n",
              "      <td>Individual</td>\n",
              "      <td>Manual</td>\n",
              "      <td>First Owner</td>\n",
              "    </tr>\n",
              "    <tr>\n",
              "      <th>4</th>\n",
              "      <td>Honda Amaze VX i-DTEC</td>\n",
              "      <td>2014</td>\n",
              "      <td>450000</td>\n",
              "      <td>141000</td>\n",
              "      <td>Diesel</td>\n",
              "      <td>Individual</td>\n",
              "      <td>Manual</td>\n",
              "      <td>Second Owner</td>\n",
              "    </tr>\n",
              "  </tbody>\n",
              "</table>\n",
              "</div>"
            ],
            "text/plain": [
              "                       name  year  ...  transmission         owner\n",
              "0             Maruti 800 AC  2007  ...        Manual   First Owner\n",
              "1  Maruti Wagon R LXI Minor  2007  ...        Manual   First Owner\n",
              "2      Hyundai Verna 1.6 SX  2012  ...        Manual   First Owner\n",
              "3    Datsun RediGO T Option  2017  ...        Manual   First Owner\n",
              "4     Honda Amaze VX i-DTEC  2014  ...        Manual  Second Owner\n",
              "\n",
              "[5 rows x 8 columns]"
            ]
          },
          "metadata": {},
          "execution_count": 405
        }
      ]
    },
    {
      "cell_type": "code",
      "metadata": {
        "colab": {
          "base_uri": "https://localhost:8080/"
        },
        "id": "lr9ezJnWOGfK",
        "outputId": "0a648894-fbde-4619-8caa-801e281aae49"
      },
      "source": [
        "# check shape of df\n",
        "df.shape"
      ],
      "execution_count": 406,
      "outputs": [
        {
          "output_type": "execute_result",
          "data": {
            "text/plain": [
              "(4340, 8)"
            ]
          },
          "metadata": {},
          "execution_count": 406
        }
      ]
    },
    {
      "cell_type": "code",
      "metadata": {
        "colab": {
          "base_uri": "https://localhost:8080/"
        },
        "id": "tOW7fnr_OQAa",
        "outputId": "6cc5e65e-1c77-4d97-baff-1931f02c68fa"
      },
      "source": [
        "# check column types\n",
        "df.dtypes"
      ],
      "execution_count": 407,
      "outputs": [
        {
          "output_type": "execute_result",
          "data": {
            "text/plain": [
              "name             object\n",
              "year              int64\n",
              "selling_price     int64\n",
              "km_driven         int64\n",
              "fuel             object\n",
              "seller_type      object\n",
              "transmission     object\n",
              "owner            object\n",
              "dtype: object"
            ]
          },
          "metadata": {},
          "execution_count": 407
        }
      ]
    },
    {
      "cell_type": "code",
      "metadata": {
        "colab": {
          "base_uri": "https://localhost:8080/",
          "height": 501
        },
        "id": "EyEKpXdiOXZg",
        "outputId": "e9ed541c-cda1-495d-fb92-0663015309dd"
      },
      "source": [
        "# check for missing values\n",
        "import missingno as msg\n",
        "\n",
        "msg.matrix(df, figsize=(30, 10))"
      ],
      "execution_count": 408,
      "outputs": [
        {
          "output_type": "execute_result",
          "data": {
            "text/plain": [
              "<matplotlib.axes._subplots.AxesSubplot at 0x7f1db0547e50>"
            ]
          },
          "metadata": {},
          "execution_count": 408
        },
        {
          "output_type": "display_data",
          "data": {
            "image/png": "[encoded data removed]",
            "text/plain": [
              "<Figure size 2160x720 with 2 Axes>"
            ]
          },
          "metadata": {
            "needs_background": "light"
          }
        }
      ]
    },
    {
      "cell_type": "code",
      "metadata": {
        "colab": {
          "base_uri": "https://localhost:8080/",
          "height": 300
        },
        "id": "OLJ6q3nrPIAU",
        "outputId": "07ef09e3-b6ce-484b-a4a4-6090f3e80ab1"
      },
      "source": [
        "# descriptive statistics of numeric columns\n",
        "df.describe()"
      ],
      "execution_count": 409,
      "outputs": [
        {
          "output_type": "execute_result",
          "data": {
            "text/html": [
              "<div>\n",
              "<style scoped>\n",
              "    .dataframe tbody tr th:only-of-type {\n",
              "        vertical-align: middle;\n",
              "    }\n",
              "\n",
              "    .dataframe tbody tr th {\n",
              "        vertical-align: top;\n",
              "    }\n",
              "\n",
              "    .dataframe thead th {\n",
              "        text-align: right;\n",
              "    }\n",
              "</style>\n",
              "<table border=\"1\" class=\"dataframe\">\n",
              "  <thead>\n",
              "    <tr style=\"text-align: right;\">\n",
              "      <th></th>\n",
              "      <th>year</th>\n",
              "      <th>selling_price</th>\n",
              "      <th>km_driven</th>\n",
              "    </tr>\n",
              "  </thead>\n",
              "  <tbody>\n",
              "    <tr>\n",
              "      <th>count</th>\n",
              "      <td>4340.000000</td>\n",
              "      <td>4.340000e+03</td>\n",
              "      <td>4340.000000</td>\n",
              "    </tr>\n",
              "    <tr>\n",
              "      <th>mean</th>\n",
              "      <td>2013.090783</td>\n",
              "      <td>5.041273e+05</td>\n",
              "      <td>66215.777419</td>\n",
              "    </tr>\n",
              "    <tr>\n",
              "      <th>std</th>\n",
              "      <td>4.215344</td>\n",
              "      <td>5.785487e+05</td>\n",
              "      <td>46644.102194</td>\n",
              "    </tr>\n",
              "    <tr>\n",
              "      <th>min</th>\n",
              "      <td>1992.000000</td>\n",
              "      <td>2.000000e+04</td>\n",
              "      <td>1.000000</td>\n",
              "    </tr>\n",
              "    <tr>\n",
              "      <th>25%</th>\n",
              "      <td>2011.000000</td>\n",
              "      <td>2.087498e+05</td>\n",
              "      <td>35000.000000</td>\n",
              "    </tr>\n",
              "    <tr>\n",
              "      <th>50%</th>\n",
              "      <td>2014.000000</td>\n",
              "      <td>3.500000e+05</td>\n",
              "      <td>60000.000000</td>\n",
              "    </tr>\n",
              "    <tr>\n",
              "      <th>75%</th>\n",
              "      <td>2016.000000</td>\n",
              "      <td>6.000000e+05</td>\n",
              "      <td>90000.000000</td>\n",
              "    </tr>\n",
              "    <tr>\n",
              "      <th>max</th>\n",
              "      <td>2020.000000</td>\n",
              "      <td>8.900000e+06</td>\n",
              "      <td>806599.000000</td>\n",
              "    </tr>\n",
              "  </tbody>\n",
              "</table>\n",
              "</div>"
            ],
            "text/plain": [
              "              year  selling_price      km_driven\n",
              "count  4340.000000   4.340000e+03    4340.000000\n",
              "mean   2013.090783   5.041273e+05   66215.777419\n",
              "std       4.215344   5.785487e+05   46644.102194\n",
              "min    1992.000000   2.000000e+04       1.000000\n",
              "25%    2011.000000   2.087498e+05   35000.000000\n",
              "50%    2014.000000   3.500000e+05   60000.000000\n",
              "75%    2016.000000   6.000000e+05   90000.000000\n",
              "max    2020.000000   8.900000e+06  806599.000000"
            ]
          },
          "metadata": {},
          "execution_count": 409
        }
      ]
    },
    {
      "cell_type": "markdown",
      "metadata": {
        "id": "DbkBMFOZUq15"
      },
      "source": [
        "# Numerical Features"
      ]
    },
    {
      "cell_type": "code",
      "metadata": {
        "id": "TatD-kRzPq8F"
      },
      "source": [
        "# get the Avg price of cars sold and the Avg km_driven\n",
        "\n",
        "# function to calculate avg price and km\n",
        "def mean_calc(df):\n",
        "  # dict to store avgs\n",
        "  calc = {}\n",
        "  calc['cars_in_dealership'] = len(df.selling_price)\n",
        "  calc['avg_price'] = df['selling_price'].mean()\n",
        "  calc['avg_km'] = df['km_driven'].mean()\n",
        "\n",
        "  # return a Pandas Series \n",
        "  return pd.Series(calc, index=['cars_in_dealership', 'avg_price', 'avg_km'])"
      ],
      "execution_count": 410,
      "outputs": []
    },
    {
      "cell_type": "code",
      "metadata": {
        "colab": {
          "base_uri": "https://localhost:8080/",
          "height": 896
        },
        "id": "2nqy8OhSXu39",
        "outputId": "50cf615e-d9dc-42ec-b906-9c4e98be25af"
      },
      "source": [
        "# avg price & km by year \n",
        "avg_price_km = df.groupby(['year']).apply(mean_calc).reset_index()\n",
        "\n",
        "avg_price_km"
      ],
      "execution_count": 411,
      "outputs": [
        {
          "output_type": "execute_result",
          "data": {
            "text/html": [
              "<div>\n",
              "<style scoped>\n",
              "    .dataframe tbody tr th:only-of-type {\n",
              "        vertical-align: middle;\n",
              "    }\n",
              "\n",
              "    .dataframe tbody tr th {\n",
              "        vertical-align: top;\n",
              "    }\n",
              "\n",
              "    .dataframe thead th {\n",
              "        text-align: right;\n",
              "    }\n",
              "</style>\n",
              "<table border=\"1\" class=\"dataframe\">\n",
              "  <thead>\n",
              "    <tr style=\"text-align: right;\">\n",
              "      <th></th>\n",
              "      <th>year</th>\n",
              "      <th>cars_in_dealership</th>\n",
              "      <th>avg_price</th>\n",
              "      <th>avg_km</th>\n",
              "    </tr>\n",
              "  </thead>\n",
              "  <tbody>\n",
              "    <tr>\n",
              "      <th>0</th>\n",
              "      <td>1992</td>\n",
              "      <td>1.0</td>\n",
              "      <td>5.000000e+04</td>\n",
              "      <td>100000.000000</td>\n",
              "    </tr>\n",
              "    <tr>\n",
              "      <th>1</th>\n",
              "      <td>1995</td>\n",
              "      <td>1.0</td>\n",
              "      <td>9.500000e+04</td>\n",
              "      <td>100000.000000</td>\n",
              "    </tr>\n",
              "    <tr>\n",
              "      <th>2</th>\n",
              "      <td>1996</td>\n",
              "      <td>2.0</td>\n",
              "      <td>2.250000e+05</td>\n",
              "      <td>47500.000000</td>\n",
              "    </tr>\n",
              "    <tr>\n",
              "      <th>3</th>\n",
              "      <td>1997</td>\n",
              "      <td>3.0</td>\n",
              "      <td>9.300000e+04</td>\n",
              "      <td>90000.000000</td>\n",
              "    </tr>\n",
              "    <tr>\n",
              "      <th>4</th>\n",
              "      <td>1998</td>\n",
              "      <td>12.0</td>\n",
              "      <td>2.140000e+05</td>\n",
              "      <td>64583.333333</td>\n",
              "    </tr>\n",
              "    <tr>\n",
              "      <th>5</th>\n",
              "      <td>1999</td>\n",
              "      <td>10.0</td>\n",
              "      <td>7.350000e+04</td>\n",
              "      <td>67702.000000</td>\n",
              "    </tr>\n",
              "    <tr>\n",
              "      <th>6</th>\n",
              "      <td>2000</td>\n",
              "      <td>12.0</td>\n",
              "      <td>8.150000e+04</td>\n",
              "      <td>70936.916667</td>\n",
              "    </tr>\n",
              "    <tr>\n",
              "      <th>7</th>\n",
              "      <td>2001</td>\n",
              "      <td>20.0</td>\n",
              "      <td>1.176499e+05</td>\n",
              "      <td>83712.850000</td>\n",
              "    </tr>\n",
              "    <tr>\n",
              "      <th>8</th>\n",
              "      <td>2002</td>\n",
              "      <td>21.0</td>\n",
              "      <td>9.071429e+04</td>\n",
              "      <td>85047.619048</td>\n",
              "    </tr>\n",
              "    <tr>\n",
              "      <th>9</th>\n",
              "      <td>2003</td>\n",
              "      <td>23.0</td>\n",
              "      <td>8.656522e+04</td>\n",
              "      <td>81671.347826</td>\n",
              "    </tr>\n",
              "    <tr>\n",
              "      <th>10</th>\n",
              "      <td>2004</td>\n",
              "      <td>42.0</td>\n",
              "      <td>1.217500e+05</td>\n",
              "      <td>90273.309524</td>\n",
              "    </tr>\n",
              "    <tr>\n",
              "      <th>11</th>\n",
              "      <td>2005</td>\n",
              "      <td>85.0</td>\n",
              "      <td>1.090130e+05</td>\n",
              "      <td>80991.517647</td>\n",
              "    </tr>\n",
              "    <tr>\n",
              "      <th>12</th>\n",
              "      <td>2006</td>\n",
              "      <td>110.0</td>\n",
              "      <td>1.577999e+05</td>\n",
              "      <td>102603.881818</td>\n",
              "    </tr>\n",
              "    <tr>\n",
              "      <th>13</th>\n",
              "      <td>2007</td>\n",
              "      <td>134.0</td>\n",
              "      <td>1.628284e+05</td>\n",
              "      <td>89308.679104</td>\n",
              "    </tr>\n",
              "    <tr>\n",
              "      <th>14</th>\n",
              "      <td>2008</td>\n",
              "      <td>145.0</td>\n",
              "      <td>1.742013e+05</td>\n",
              "      <td>89163.117241</td>\n",
              "    </tr>\n",
              "    <tr>\n",
              "      <th>15</th>\n",
              "      <td>2009</td>\n",
              "      <td>193.0</td>\n",
              "      <td>2.295647e+05</td>\n",
              "      <td>92521.284974</td>\n",
              "    </tr>\n",
              "    <tr>\n",
              "      <th>16</th>\n",
              "      <td>2010</td>\n",
              "      <td>234.0</td>\n",
              "      <td>2.696781e+05</td>\n",
              "      <td>91735.435897</td>\n",
              "    </tr>\n",
              "    <tr>\n",
              "      <th>17</th>\n",
              "      <td>2011</td>\n",
              "      <td>271.0</td>\n",
              "      <td>2.936383e+05</td>\n",
              "      <td>88096.287823</td>\n",
              "    </tr>\n",
              "    <tr>\n",
              "      <th>18</th>\n",
              "      <td>2012</td>\n",
              "      <td>415.0</td>\n",
              "      <td>3.716289e+05</td>\n",
              "      <td>83393.554217</td>\n",
              "    </tr>\n",
              "    <tr>\n",
              "      <th>19</th>\n",
              "      <td>2013</td>\n",
              "      <td>386.0</td>\n",
              "      <td>4.848010e+05</td>\n",
              "      <td>72728.422280</td>\n",
              "    </tr>\n",
              "    <tr>\n",
              "      <th>20</th>\n",
              "      <td>2014</td>\n",
              "      <td>367.0</td>\n",
              "      <td>5.232316e+05</td>\n",
              "      <td>75685.272480</td>\n",
              "    </tr>\n",
              "    <tr>\n",
              "      <th>21</th>\n",
              "      <td>2015</td>\n",
              "      <td>421.0</td>\n",
              "      <td>5.289430e+05</td>\n",
              "      <td>60585.206651</td>\n",
              "    </tr>\n",
              "    <tr>\n",
              "      <th>22</th>\n",
              "      <td>2016</td>\n",
              "      <td>357.0</td>\n",
              "      <td>6.083641e+05</td>\n",
              "      <td>55205.904762</td>\n",
              "    </tr>\n",
              "    <tr>\n",
              "      <th>23</th>\n",
              "      <td>2017</td>\n",
              "      <td>466.0</td>\n",
              "      <td>7.689098e+05</td>\n",
              "      <td>40485.763948</td>\n",
              "    </tr>\n",
              "    <tr>\n",
              "      <th>24</th>\n",
              "      <td>2018</td>\n",
              "      <td>366.0</td>\n",
              "      <td>9.107705e+05</td>\n",
              "      <td>27233.784153</td>\n",
              "    </tr>\n",
              "    <tr>\n",
              "      <th>25</th>\n",
              "      <td>2019</td>\n",
              "      <td>195.0</td>\n",
              "      <td>1.059020e+06</td>\n",
              "      <td>20912.476923</td>\n",
              "    </tr>\n",
              "    <tr>\n",
              "      <th>26</th>\n",
              "      <td>2020</td>\n",
              "      <td>48.0</td>\n",
              "      <td>8.184791e+05</td>\n",
              "      <td>11037.166667</td>\n",
              "    </tr>\n",
              "  </tbody>\n",
              "</table>\n",
              "</div>"
            ],
            "text/plain": [
              "    year  cars_in_dealership     avg_price         avg_km\n",
              "0   1992                 1.0  5.000000e+04  100000.000000\n",
              "1   1995                 1.0  9.500000e+04  100000.000000\n",
              "2   1996                 2.0  2.250000e+05   47500.000000\n",
              "3   1997                 3.0  9.300000e+04   90000.000000\n",
              "4   1998                12.0  2.140000e+05   64583.333333\n",
              "5   1999                10.0  7.350000e+04   67702.000000\n",
              "6   2000                12.0  8.150000e+04   70936.916667\n",
              "7   2001                20.0  1.176499e+05   83712.850000\n",
              "8   2002                21.0  9.071429e+04   85047.619048\n",
              "9   2003                23.0  8.656522e+04   81671.347826\n",
              "10  2004                42.0  1.217500e+05   90273.309524\n",
              "11  2005                85.0  1.090130e+05   80991.517647\n",
              "12  2006               110.0  1.577999e+05  102603.881818\n",
              "13  2007               134.0  1.628284e+05   89308.679104\n",
              "14  2008               145.0  1.742013e+05   89163.117241\n",
              "15  2009               193.0  2.295647e+05   92521.284974\n",
              "16  2010               234.0  2.696781e+05   91735.435897\n",
              "17  2011               271.0  2.936383e+05   88096.287823\n",
              "18  2012               415.0  3.716289e+05   83393.554217\n",
              "19  2013               386.0  4.848010e+05   72728.422280\n",
              "20  2014               367.0  5.232316e+05   75685.272480\n",
              "21  2015               421.0  5.289430e+05   60585.206651\n",
              "22  2016               357.0  6.083641e+05   55205.904762\n",
              "23  2017               466.0  7.689098e+05   40485.763948\n",
              "24  2018               366.0  9.107705e+05   27233.784153\n",
              "25  2019               195.0  1.059020e+06   20912.476923\n",
              "26  2020                48.0  8.184791e+05   11037.166667"
            ]
          },
          "metadata": {},
          "execution_count": 411
        }
      ]
    },
    {
      "cell_type": "code",
      "metadata": {
        "colab": {
          "base_uri": "https://localhost:8080/",
          "height": 404
        },
        "id": "ZA4vFIdJlNKE",
        "outputId": "6a62c0fd-6e3f-4ea2-a841-e4cb94007219"
      },
      "source": [
        "# plot of number of cars per car year in dealership\n",
        "\n",
        "f, ax = plt.subplots(figsize=(10, 6))\n",
        "\n",
        "sns.lineplot(x='year', y='cars_in_dealership', data=avg_price_km, color='purple')\n",
        "\n",
        "plt.ylabel('Number of Cars')\n",
        "plt.xlabel('Car Year')\n",
        "plt.title('Number of Cars per Car Year in CarDekho')\n",
        "plt.show()\n"
      ],
      "execution_count": 412,
      "outputs": [
        {
          "output_type": "display_data",
          "data": {
            "image/png": "[encoded data removed]",
            "text/plain": [
              "<Figure size 720x432 with 1 Axes>"
            ]
          },
          "metadata": {
            "needs_background": "light"
          }
        }
      ]
    },
    {
      "cell_type": "code",
      "metadata": {
        "colab": {
          "base_uri": "https://localhost:8080/",
          "height": 404
        },
        "id": "VqeQ56PkYvKx",
        "outputId": "865e3f83-2b10-4f67-8ad5-ed7163987c9e"
      },
      "source": [
        "# plot of avg price of cars sold per car year \n",
        "\n",
        "f, ax = plt.subplots(figsize=(10, 6))\n",
        "\n",
        "sns.lineplot(x='year', y='avg_price', data=avg_price_km)\n",
        "\n",
        "# set y ticks\n",
        "ax.set_yticks([0, 200000, 400000, 600000, 800000, 1000000])\n",
        "ax.set_yticklabels([0, '200k', '400k', '600k', '800k', '1Mill'])\n",
        "\n",
        "plt.xlabel('Car Year')\n",
        "plt.ylabel('Price in Rupees')\n",
        "plt.title('Avg Selling Price per Car Year in CarDekho')\n",
        "plt.show()\n"
      ],
      "execution_count": 413,
      "outputs": [
        {
          "output_type": "display_data",
          "data": {
            "image/png": "[encoded data removed]",
            "text/plain": [
              "<Figure size 720x432 with 1 Axes>"
            ]
          },
          "metadata": {
            "needs_background": "light"
          }
        }
      ]
    },
    {
      "cell_type": "code",
      "metadata": {
        "colab": {
          "base_uri": "https://localhost:8080/",
          "height": 404
        },
        "id": "oN1i2crXhlKd",
        "outputId": "5caf7c86-1ec1-4544-ab46-85370145e1b7"
      },
      "source": [
        "# plot of avg kms per car year in dealership\n",
        "\n",
        "f, ax = plt.subplots(figsize=(10, 6))\n",
        "\n",
        "sns.lineplot(x='year', y='avg_km', data=avg_price_km, color='red')\n",
        "\n",
        "plt.xlabel('Car Year')\n",
        "plt.ylabel('Kilometers Driven')\n",
        "plt.title('Avg Kilometers Driven per Car Year in CarDekho')\n",
        "plt.show()"
      ],
      "execution_count": 414,
      "outputs": [
        {
          "output_type": "display_data",
          "data": {
            "image/png": "[encoded data removed]",
            "text/plain": [
              "<Figure size 720x432 with 1 Axes>"
            ]
          },
          "metadata": {
            "needs_background": "light"
          }
        }
      ]
    },
    {
      "cell_type": "markdown",
      "metadata": {
        "id": "G-eTb-iQUuQ4"
      },
      "source": [
        "# Categorical Features"
      ]
    },
    {
      "cell_type": "code",
      "metadata": {
        "colab": {
          "base_uri": "https://localhost:8080/",
          "height": 206
        },
        "id": "4Ad4igfgUxaR",
        "outputId": "93a64ab2-cda8-41d4-e3ff-0ab230ed4b69"
      },
      "source": [
        "df.head()"
      ],
      "execution_count": 415,
      "outputs": [
        {
          "output_type": "execute_result",
          "data": {
            "text/html": [
              "<div>\n",
              "<style scoped>\n",
              "    .dataframe tbody tr th:only-of-type {\n",
              "        vertical-align: middle;\n",
              "    }\n",
              "\n",
              "    .dataframe tbody tr th {\n",
              "        vertical-align: top;\n",
              "    }\n",
              "\n",
              "    .dataframe thead th {\n",
              "        text-align: right;\n",
              "    }\n",
              "</style>\n",
              "<table border=\"1\" class=\"dataframe\">\n",
              "  <thead>\n",
              "    <tr style=\"text-align: right;\">\n",
              "      <th></th>\n",
              "      <th>name</th>\n",
              "      <th>year</th>\n",
              "      <th>selling_price</th>\n",
              "      <th>km_driven</th>\n",
              "      <th>fuel</th>\n",
              "      <th>seller_type</th>\n",
              "      <th>transmission</th>\n",
              "      <th>owner</th>\n",
              "    </tr>\n",
              "  </thead>\n",
              "  <tbody>\n",
              "    <tr>\n",
              "      <th>0</th>\n",
              "      <td>Maruti 800 AC</td>\n",
              "      <td>2007</td>\n",
              "      <td>60000</td>\n",
              "      <td>70000</td>\n",
              "      <td>Petrol</td>\n",
              "      <td>Individual</td>\n",
              "      <td>Manual</td>\n",
              "      <td>First Owner</td>\n",
              "    </tr>\n",
              "    <tr>\n",
              "      <th>1</th>\n",
              "      <td>Maruti Wagon R LXI Minor</td>\n",
              "      <td>2007</td>\n",
              "      <td>135000</td>\n",
              "      <td>50000</td>\n",
              "      <td>Petrol</td>\n",
              "      <td>Individual</td>\n",
              "      <td>Manual</td>\n",
              "      <td>First Owner</td>\n",
              "    </tr>\n",
              "    <tr>\n",
              "      <th>2</th>\n",
              "      <td>Hyundai Verna 1.6 SX</td>\n",
              "      <td>2012</td>\n",
              "      <td>600000</td>\n",
              "      <td>100000</td>\n",
              "      <td>Diesel</td>\n",
              "      <td>Individual</td>\n",
              "      <td>Manual</td>\n",
              "      <td>First Owner</td>\n",
              "    </tr>\n",
              "    <tr>\n",
              "      <th>3</th>\n",
              "      <td>Datsun RediGO T Option</td>\n",
              "      <td>2017</td>\n",
              "      <td>250000</td>\n",
              "      <td>46000</td>\n",
              "      <td>Petrol</td>\n",
              "      <td>Individual</td>\n",
              "      <td>Manual</td>\n",
              "      <td>First Owner</td>\n",
              "    </tr>\n",
              "    <tr>\n",
              "      <th>4</th>\n",
              "      <td>Honda Amaze VX i-DTEC</td>\n",
              "      <td>2014</td>\n",
              "      <td>450000</td>\n",
              "      <td>141000</td>\n",
              "      <td>Diesel</td>\n",
              "      <td>Individual</td>\n",
              "      <td>Manual</td>\n",
              "      <td>Second Owner</td>\n",
              "    </tr>\n",
              "  </tbody>\n",
              "</table>\n",
              "</div>"
            ],
            "text/plain": [
              "                       name  year  ...  transmission         owner\n",
              "0             Maruti 800 AC  2007  ...        Manual   First Owner\n",
              "1  Maruti Wagon R LXI Minor  2007  ...        Manual   First Owner\n",
              "2      Hyundai Verna 1.6 SX  2012  ...        Manual   First Owner\n",
              "3    Datsun RediGO T Option  2017  ...        Manual   First Owner\n",
              "4     Honda Amaze VX i-DTEC  2014  ...        Manual  Second Owner\n",
              "\n",
              "[5 rows x 8 columns]"
            ]
          },
          "metadata": {},
          "execution_count": 415
        }
      ]
    },
    {
      "cell_type": "code",
      "metadata": {
        "colab": {
          "base_uri": "https://localhost:8080/",
          "height": 206
        },
        "id": "emRV_sRouxW9",
        "outputId": "6b308b01-cbd8-4641-8e23-2fa1bfa348b8"
      },
      "source": [
        "# df of only categorical features\n",
        "\n",
        "df_categorical = df.iloc[:, 4:]\n",
        "\n",
        "# rename df column names\n",
        "df_categorical = df_categorical.rename(\n",
        "    columns={\n",
        "        'fuel': 'Fuel',\n",
        "        'seller_type': 'Seller',\n",
        "        'transmission': 'Transmission',\n",
        "        'owner': 'Owner'\n",
        "    })\n",
        "\n",
        "df_categorical.head()"
      ],
      "execution_count": 416,
      "outputs": [
        {
          "output_type": "execute_result",
          "data": {
            "text/html": [
              "<div>\n",
              "<style scoped>\n",
              "    .dataframe tbody tr th:only-of-type {\n",
              "        vertical-align: middle;\n",
              "    }\n",
              "\n",
              "    .dataframe tbody tr th {\n",
              "        vertical-align: top;\n",
              "    }\n",
              "\n",
              "    .dataframe thead th {\n",
              "        text-align: right;\n",
              "    }\n",
              "</style>\n",
              "<table border=\"1\" class=\"dataframe\">\n",
              "  <thead>\n",
              "    <tr style=\"text-align: right;\">\n",
              "      <th></th>\n",
              "      <th>Fuel</th>\n",
              "      <th>Seller</th>\n",
              "      <th>Transmission</th>\n",
              "      <th>Owner</th>\n",
              "    </tr>\n",
              "  </thead>\n",
              "  <tbody>\n",
              "    <tr>\n",
              "      <th>0</th>\n",
              "      <td>Petrol</td>\n",
              "      <td>Individual</td>\n",
              "      <td>Manual</td>\n",
              "      <td>First Owner</td>\n",
              "    </tr>\n",
              "    <tr>\n",
              "      <th>1</th>\n",
              "      <td>Petrol</td>\n",
              "      <td>Individual</td>\n",
              "      <td>Manual</td>\n",
              "      <td>First Owner</td>\n",
              "    </tr>\n",
              "    <tr>\n",
              "      <th>2</th>\n",
              "      <td>Diesel</td>\n",
              "      <td>Individual</td>\n",
              "      <td>Manual</td>\n",
              "      <td>First Owner</td>\n",
              "    </tr>\n",
              "    <tr>\n",
              "      <th>3</th>\n",
              "      <td>Petrol</td>\n",
              "      <td>Individual</td>\n",
              "      <td>Manual</td>\n",
              "      <td>First Owner</td>\n",
              "    </tr>\n",
              "    <tr>\n",
              "      <th>4</th>\n",
              "      <td>Diesel</td>\n",
              "      <td>Individual</td>\n",
              "      <td>Manual</td>\n",
              "      <td>Second Owner</td>\n",
              "    </tr>\n",
              "  </tbody>\n",
              "</table>\n",
              "</div>"
            ],
            "text/plain": [
              "     Fuel      Seller Transmission         Owner\n",
              "0  Petrol  Individual       Manual   First Owner\n",
              "1  Petrol  Individual       Manual   First Owner\n",
              "2  Diesel  Individual       Manual   First Owner\n",
              "3  Petrol  Individual       Manual   First Owner\n",
              "4  Diesel  Individual       Manual  Second Owner"
            ]
          },
          "metadata": {},
          "execution_count": 416
        }
      ]
    },
    {
      "cell_type": "code",
      "metadata": {
        "id": "UrlLBPRVwSA3"
      },
      "source": [
        "# store features names in list\n",
        "\n",
        "categories_features = list(df_categorical.columns)"
      ],
      "execution_count": 417,
      "outputs": []
    },
    {
      "cell_type": "code",
      "metadata": {
        "colab": {
          "base_uri": "https://localhost:8080/"
        },
        "id": "Dvz_cSv93DDz",
        "outputId": "8449ba2c-7c05-4fb7-deae-e48959f46dc2"
      },
      "source": [
        "# number of cars by each categorical feature\n",
        "for el in categories_features:\n",
        "  # count items for every el\n",
        "  feature = df_categorical[el].value_counts()\n",
        "\n",
        "  # turn series to DataFrame\n",
        "  feature = feature.to_frame().reset_index()\n",
        "\n",
        "  # rename columns\n",
        "  feature = feature.rename(columns={\n",
        "      'index': el,\n",
        "      el: 'Number_Cars'\n",
        "  })\n",
        "\n",
        "  # calculate %\n",
        "  feature['%_Cars'] = np.round((feature.Number_Cars / feature.Number_Cars.sum()) * 100 , 2)\n",
        "\n",
        "  print(f'Number of Cars by {el} in CarDekho', '\\n')\n",
        "  print(feature, '\\n'*4)\n",
        "\n",
        "\n"
      ],
      "execution_count": 418,
      "outputs": [
        {
          "output_type": "stream",
          "name": "stdout",
          "text": [
            "Number of Cars by Fuel in CarDekho \n",
            "\n",
            "       Fuel  Number_Cars  %_Cars\n",
            "0    Diesel         2153   49.61\n",
            "1    Petrol         2123   48.92\n",
            "2       CNG           40    0.92\n",
            "3       LPG           23    0.53\n",
            "4  Electric            1    0.02 \n",
            "\n",
            "\n",
            "\n",
            "\n",
            "Number of Cars by Seller in CarDekho \n",
            "\n",
            "             Seller  Number_Cars  %_Cars\n",
            "0        Individual         3244   74.75\n",
            "1            Dealer          994   22.90\n",
            "2  Trustmark Dealer          102    2.35 \n",
            "\n",
            "\n",
            "\n",
            "\n",
            "Number of Cars by Transmission in CarDekho \n",
            "\n",
            "  Transmission  Number_Cars  %_Cars\n",
            "0       Manual         3892   89.68\n",
            "1    Automatic          448   10.32 \n",
            "\n",
            "\n",
            "\n",
            "\n",
            "Number of Cars by Owner in CarDekho \n",
            "\n",
            "                  Owner  Number_Cars  %_Cars\n",
            "0           First Owner         2832   65.25\n",
            "1          Second Owner         1106   25.48\n",
            "2           Third Owner          304    7.00\n",
            "3  Fourth & Above Owner           81    1.87\n",
            "4        Test Drive Car           17    0.39 \n",
            "\n",
            "\n",
            "\n",
            "\n"
          ]
        }
      ]
    },
    {
      "cell_type": "code",
      "metadata": {
        "colab": {
          "base_uri": "https://localhost:8080/",
          "height": 810
        },
        "id": "35IStJf0s2dQ",
        "outputId": "8445e4cf-9f4f-484f-adc8-bd2089d27767"
      },
      "source": [
        "# CountPlots of Categorical Features\n",
        "\n",
        "# figure size\n",
        "fig = plt.figure(figsize=(25, 16))\n",
        "\n",
        "# plot counter\n",
        "n = 1\n",
        "\n",
        "for el in categories_features:\n",
        "  # set position to plot graph\n",
        "  ax = plt.subplot(2, 2, n)\n",
        "\n",
        "  sns.countplot(x=df_categorical[el], data=df_categorical[el], order=df_categorical[el].value_counts().index)\n",
        "\n",
        "  plt.title(f'Number of Cars by {el} Type in CarDekho')\n",
        "\n",
        "  # increase counter\n",
        "  n += 1\n",
        "\n",
        "plt.show() "
      ],
      "execution_count": 419,
      "outputs": [
        {
          "output_type": "display_data",
          "data": {
            "image/png": "[encoded data removed]",
            "text/plain": [
              "<Figure size 1800x1152 with 4 Axes>"
            ]
          },
          "metadata": {
            "needs_background": "light"
          }
        }
      ]
    },
    {
      "cell_type": "markdown",
      "metadata": {
        "id": "ezjFMhQalpiK"
      },
      "source": [
        "# Categories Encoding"
      ]
    },
    {
      "cell_type": "markdown",
      "metadata": {
        "id": "Kokvn61yyywf"
      },
      "source": [
        "### Car Brand"
      ]
    },
    {
      "cell_type": "code",
      "metadata": {
        "colab": {
          "base_uri": "https://localhost:8080/"
        },
        "id": "rI18hP9mltA0",
        "outputId": "eebcd578-e4bc-49fa-a68c-b8acb2061d05"
      },
      "source": [
        "# separate the brand from the car name\n",
        "\n",
        "df['brand'] = df['name'].str.split(' ').str[0]\n",
        "df['brand'].unique()"
      ],
      "execution_count": 420,
      "outputs": [
        {
          "output_type": "execute_result",
          "data": {
            "text/plain": [
              "array(['Maruti', 'Hyundai', 'Datsun', 'Honda', 'Tata', 'Chevrolet',\n",
              "       'Toyota', 'Jaguar', 'Mercedes-Benz', 'Audi', 'Skoda', 'Jeep',\n",
              "       'BMW', 'Mahindra', 'Ford', 'Nissan', 'Renault', 'Fiat',\n",
              "       'Volkswagen', 'Volvo', 'Mitsubishi', 'Land', 'Daewoo', 'MG',\n",
              "       'Force', 'Isuzu', 'OpelCorsa', 'Ambassador', 'Kia'], dtype=object)"
            ]
          },
          "metadata": {},
          "execution_count": 420
        }
      ]
    },
    {
      "cell_type": "code",
      "metadata": {
        "colab": {
          "base_uri": "https://localhost:8080/"
        },
        "id": "R5Ku3CZ4pGNi",
        "outputId": "2e6d757c-d491-47ed-e441-e9828fc3978a"
      },
      "source": [
        "# replace 'Land' for 'Land-Rover'\n",
        "\n",
        "df['brand'].replace({'Land': 'Land-Rover'}, inplace=True)\n",
        "df['brand'].unique()"
      ],
      "execution_count": 421,
      "outputs": [
        {
          "output_type": "execute_result",
          "data": {
            "text/plain": [
              "array(['Maruti', 'Hyundai', 'Datsun', 'Honda', 'Tata', 'Chevrolet',\n",
              "       'Toyota', 'Jaguar', 'Mercedes-Benz', 'Audi', 'Skoda', 'Jeep',\n",
              "       'BMW', 'Mahindra', 'Ford', 'Nissan', 'Renault', 'Fiat',\n",
              "       'Volkswagen', 'Volvo', 'Mitsubishi', 'Land-Rover', 'Daewoo', 'MG',\n",
              "       'Force', 'Isuzu', 'OpelCorsa', 'Ambassador', 'Kia'], dtype=object)"
            ]
          },
          "metadata": {},
          "execution_count": 421
        }
      ]
    },
    {
      "cell_type": "code",
      "metadata": {
        "colab": {
          "base_uri": "https://localhost:8080/",
          "height": 238
        },
        "id": "UQyl0Ry-p_Mx",
        "outputId": "592162f6-9e82-4e1c-eea7-1a32464f9043"
      },
      "source": [
        "# number of cars per brand\n",
        "\n",
        "brands = df['brand'].value_counts()\n",
        "brands = brands.to_frame().reset_index()\n",
        "\n",
        "brands.rename(columns={\n",
        "    'index': 'Brand',\n",
        "    'brand': 'Number_Cars'\n",
        "}, inplace=True)\n",
        "\n",
        "brands['%_Cars'] = np.round((brands.Number_Cars / brands.Number_Cars.sum()) * 100 , 2)\n",
        "brands.head(6)"
      ],
      "execution_count": 422,
      "outputs": [
        {
          "output_type": "execute_result",
          "data": {
            "text/html": [
              "<div>\n",
              "<style scoped>\n",
              "    .dataframe tbody tr th:only-of-type {\n",
              "        vertical-align: middle;\n",
              "    }\n",
              "\n",
              "    .dataframe tbody tr th {\n",
              "        vertical-align: top;\n",
              "    }\n",
              "\n",
              "    .dataframe thead th {\n",
              "        text-align: right;\n",
              "    }\n",
              "</style>\n",
              "<table border=\"1\" class=\"dataframe\">\n",
              "  <thead>\n",
              "    <tr style=\"text-align: right;\">\n",
              "      <th></th>\n",
              "      <th>Brand</th>\n",
              "      <th>Number_Cars</th>\n",
              "      <th>%_Cars</th>\n",
              "    </tr>\n",
              "  </thead>\n",
              "  <tbody>\n",
              "    <tr>\n",
              "      <th>0</th>\n",
              "      <td>Maruti</td>\n",
              "      <td>1280</td>\n",
              "      <td>29.49</td>\n",
              "    </tr>\n",
              "    <tr>\n",
              "      <th>1</th>\n",
              "      <td>Hyundai</td>\n",
              "      <td>821</td>\n",
              "      <td>18.92</td>\n",
              "    </tr>\n",
              "    <tr>\n",
              "      <th>2</th>\n",
              "      <td>Mahindra</td>\n",
              "      <td>365</td>\n",
              "      <td>8.41</td>\n",
              "    </tr>\n",
              "    <tr>\n",
              "      <th>3</th>\n",
              "      <td>Tata</td>\n",
              "      <td>361</td>\n",
              "      <td>8.32</td>\n",
              "    </tr>\n",
              "    <tr>\n",
              "      <th>4</th>\n",
              "      <td>Honda</td>\n",
              "      <td>252</td>\n",
              "      <td>5.81</td>\n",
              "    </tr>\n",
              "    <tr>\n",
              "      <th>5</th>\n",
              "      <td>Ford</td>\n",
              "      <td>238</td>\n",
              "      <td>5.48</td>\n",
              "    </tr>\n",
              "  </tbody>\n",
              "</table>\n",
              "</div>"
            ],
            "text/plain": [
              "      Brand  Number_Cars  %_Cars\n",
              "0    Maruti         1280   29.49\n",
              "1   Hyundai          821   18.92\n",
              "2  Mahindra          365    8.41\n",
              "3      Tata          361    8.32\n",
              "4     Honda          252    5.81\n",
              "5      Ford          238    5.48"
            ]
          },
          "metadata": {},
          "execution_count": 422
        }
      ]
    },
    {
      "cell_type": "markdown",
      "metadata": {
        "id": "I5KIPtIQtZJT"
      },
      "source": [
        "#### One-Hot Encoding is going to be used to encode categorical features \n",
        "- For features with more than two values the Q3 of their values will be encoded into separate columns (feature1_coln) while the remaining will be encoded into the other colum (feature1_other)"
      ]
    },
    {
      "cell_type": "code",
      "metadata": {
        "colab": {
          "base_uri": "https://localhost:8080/",
          "height": 206
        },
        "id": "-5v8V6_QuTfg",
        "outputId": "c24b485c-e3d5-491a-bf9c-c9c6e2d2e452"
      },
      "source": [
        "# copy of dataframe to encode categorical features\n",
        "df_encoding = df\n",
        "df_encoding.head()"
      ],
      "execution_count": 423,
      "outputs": [
        {
          "output_type": "execute_result",
          "data": {
            "text/html": [
              "<div>\n",
              "<style scoped>\n",
              "    .dataframe tbody tr th:only-of-type {\n",
              "        vertical-align: middle;\n",
              "    }\n",
              "\n",
              "    .dataframe tbody tr th {\n",
              "        vertical-align: top;\n",
              "    }\n",
              "\n",
              "    .dataframe thead th {\n",
              "        text-align: right;\n",
              "    }\n",
              "</style>\n",
              "<table border=\"1\" class=\"dataframe\">\n",
              "  <thead>\n",
              "    <tr style=\"text-align: right;\">\n",
              "      <th></th>\n",
              "      <th>name</th>\n",
              "      <th>year</th>\n",
              "      <th>selling_price</th>\n",
              "      <th>km_driven</th>\n",
              "      <th>fuel</th>\n",
              "      <th>seller_type</th>\n",
              "      <th>transmission</th>\n",
              "      <th>owner</th>\n",
              "      <th>brand</th>\n",
              "    </tr>\n",
              "  </thead>\n",
              "  <tbody>\n",
              "    <tr>\n",
              "      <th>0</th>\n",
              "      <td>Maruti 800 AC</td>\n",
              "      <td>2007</td>\n",
              "      <td>60000</td>\n",
              "      <td>70000</td>\n",
              "      <td>Petrol</td>\n",
              "      <td>Individual</td>\n",
              "      <td>Manual</td>\n",
              "      <td>First Owner</td>\n",
              "      <td>Maruti</td>\n",
              "    </tr>\n",
              "    <tr>\n",
              "      <th>1</th>\n",
              "      <td>Maruti Wagon R LXI Minor</td>\n",
              "      <td>2007</td>\n",
              "      <td>135000</td>\n",
              "      <td>50000</td>\n",
              "      <td>Petrol</td>\n",
              "      <td>Individual</td>\n",
              "      <td>Manual</td>\n",
              "      <td>First Owner</td>\n",
              "      <td>Maruti</td>\n",
              "    </tr>\n",
              "    <tr>\n",
              "      <th>2</th>\n",
              "      <td>Hyundai Verna 1.6 SX</td>\n",
              "      <td>2012</td>\n",
              "      <td>600000</td>\n",
              "      <td>100000</td>\n",
              "      <td>Diesel</td>\n",
              "      <td>Individual</td>\n",
              "      <td>Manual</td>\n",
              "      <td>First Owner</td>\n",
              "      <td>Hyundai</td>\n",
              "    </tr>\n",
              "    <tr>\n",
              "      <th>3</th>\n",
              "      <td>Datsun RediGO T Option</td>\n",
              "      <td>2017</td>\n",
              "      <td>250000</td>\n",
              "      <td>46000</td>\n",
              "      <td>Petrol</td>\n",
              "      <td>Individual</td>\n",
              "      <td>Manual</td>\n",
              "      <td>First Owner</td>\n",
              "      <td>Datsun</td>\n",
              "    </tr>\n",
              "    <tr>\n",
              "      <th>4</th>\n",
              "      <td>Honda Amaze VX i-DTEC</td>\n",
              "      <td>2014</td>\n",
              "      <td>450000</td>\n",
              "      <td>141000</td>\n",
              "      <td>Diesel</td>\n",
              "      <td>Individual</td>\n",
              "      <td>Manual</td>\n",
              "      <td>Second Owner</td>\n",
              "      <td>Honda</td>\n",
              "    </tr>\n",
              "  </tbody>\n",
              "</table>\n",
              "</div>"
            ],
            "text/plain": [
              "                       name  year  ...         owner    brand\n",
              "0             Maruti 800 AC  2007  ...   First Owner   Maruti\n",
              "1  Maruti Wagon R LXI Minor  2007  ...   First Owner   Maruti\n",
              "2      Hyundai Verna 1.6 SX  2012  ...   First Owner  Hyundai\n",
              "3    Datsun RediGO T Option  2017  ...   First Owner   Datsun\n",
              "4     Honda Amaze VX i-DTEC  2014  ...  Second Owner    Honda\n",
              "\n",
              "[5 rows x 9 columns]"
            ]
          },
          "metadata": {},
          "execution_count": 423
        }
      ]
    },
    {
      "cell_type": "markdown",
      "metadata": {
        "id": "wLc0VqVey4GO"
      },
      "source": [
        "### Fuel Encoding"
      ]
    },
    {
      "cell_type": "code",
      "metadata": {
        "colab": {
          "base_uri": "https://localhost:8080/",
          "height": 206
        },
        "id": "-hj_7VSIwAds",
        "outputId": "f2f2a943-a578-4808-9a4e-56a200992079"
      },
      "source": [
        "# fuel encoding\n",
        "\n",
        "# Diesel >> 49.61% of cars\n",
        "df_encoding['fuel_diesel'] = [1 if df_encoding.loc[index, 'fuel'] == 'Diesel' else 0 for index in df_encoding.index]\n",
        "\n",
        "# Petrol >> 48.92% of cars\n",
        "df_encoding['fuel_petrol'] = [1 if df_encoding.loc[index, 'fuel'] == 'Petrol' else 0 for index in df_encoding.index]\n",
        "\n",
        "# Other >> 1.47% of cars\n",
        "df_encoding['other_fuel'] = [1 if df_encoding.loc[index, 'fuel'] != 'Diesel' and df_encoding.loc[index, 'fuel'] != 'Petrol' \\\n",
        "                             else 0 for index in df_encoding.index]\n",
        "\n",
        "df_encoding.head()"
      ],
      "execution_count": 424,
      "outputs": [
        {
          "output_type": "execute_result",
          "data": {
            "text/html": [
              "<div>\n",
              "<style scoped>\n",
              "    .dataframe tbody tr th:only-of-type {\n",
              "        vertical-align: middle;\n",
              "    }\n",
              "\n",
              "    .dataframe tbody tr th {\n",
              "        vertical-align: top;\n",
              "    }\n",
              "\n",
              "    .dataframe thead th {\n",
              "        text-align: right;\n",
              "    }\n",
              "</style>\n",
              "<table border=\"1\" class=\"dataframe\">\n",
              "  <thead>\n",
              "    <tr style=\"text-align: right;\">\n",
              "      <th></th>\n",
              "      <th>name</th>\n",
              "      <th>year</th>\n",
              "      <th>selling_price</th>\n",
              "      <th>km_driven</th>\n",
              "      <th>fuel</th>\n",
              "      <th>seller_type</th>\n",
              "      <th>transmission</th>\n",
              "      <th>owner</th>\n",
              "      <th>brand</th>\n",
              "      <th>fuel_diesel</th>\n",
              "      <th>fuel_petrol</th>\n",
              "      <th>other_fuel</th>\n",
              "    </tr>\n",
              "  </thead>\n",
              "  <tbody>\n",
              "    <tr>\n",
              "      <th>0</th>\n",
              "      <td>Maruti 800 AC</td>\n",
              "      <td>2007</td>\n",
              "      <td>60000</td>\n",
              "      <td>70000</td>\n",
              "      <td>Petrol</td>\n",
              "      <td>Individual</td>\n",
              "      <td>Manual</td>\n",
              "      <td>First Owner</td>\n",
              "      <td>Maruti</td>\n",
              "      <td>0</td>\n",
              "      <td>1</td>\n",
              "      <td>0</td>\n",
              "    </tr>\n",
              "    <tr>\n",
              "      <th>1</th>\n",
              "      <td>Maruti Wagon R LXI Minor</td>\n",
              "      <td>2007</td>\n",
              "      <td>135000</td>\n",
              "      <td>50000</td>\n",
              "      <td>Petrol</td>\n",
              "      <td>Individual</td>\n",
              "      <td>Manual</td>\n",
              "      <td>First Owner</td>\n",
              "      <td>Maruti</td>\n",
              "      <td>0</td>\n",
              "      <td>1</td>\n",
              "      <td>0</td>\n",
              "    </tr>\n",
              "    <tr>\n",
              "      <th>2</th>\n",
              "      <td>Hyundai Verna 1.6 SX</td>\n",
              "      <td>2012</td>\n",
              "      <td>600000</td>\n",
              "      <td>100000</td>\n",
              "      <td>Diesel</td>\n",
              "      <td>Individual</td>\n",
              "      <td>Manual</td>\n",
              "      <td>First Owner</td>\n",
              "      <td>Hyundai</td>\n",
              "      <td>1</td>\n",
              "      <td>0</td>\n",
              "      <td>0</td>\n",
              "    </tr>\n",
              "    <tr>\n",
              "      <th>3</th>\n",
              "      <td>Datsun RediGO T Option</td>\n",
              "      <td>2017</td>\n",
              "      <td>250000</td>\n",
              "      <td>46000</td>\n",
              "      <td>Petrol</td>\n",
              "      <td>Individual</td>\n",
              "      <td>Manual</td>\n",
              "      <td>First Owner</td>\n",
              "      <td>Datsun</td>\n",
              "      <td>0</td>\n",
              "      <td>1</td>\n",
              "      <td>0</td>\n",
              "    </tr>\n",
              "    <tr>\n",
              "      <th>4</th>\n",
              "      <td>Honda Amaze VX i-DTEC</td>\n",
              "      <td>2014</td>\n",
              "      <td>450000</td>\n",
              "      <td>141000</td>\n",
              "      <td>Diesel</td>\n",
              "      <td>Individual</td>\n",
              "      <td>Manual</td>\n",
              "      <td>Second Owner</td>\n",
              "      <td>Honda</td>\n",
              "      <td>1</td>\n",
              "      <td>0</td>\n",
              "      <td>0</td>\n",
              "    </tr>\n",
              "  </tbody>\n",
              "</table>\n",
              "</div>"
            ],
            "text/plain": [
              "                       name  year  ...  fuel_petrol  other_fuel\n",
              "0             Maruti 800 AC  2007  ...            1           0\n",
              "1  Maruti Wagon R LXI Minor  2007  ...            1           0\n",
              "2      Hyundai Verna 1.6 SX  2012  ...            0           0\n",
              "3    Datsun RediGO T Option  2017  ...            1           0\n",
              "4     Honda Amaze VX i-DTEC  2014  ...            0           0\n",
              "\n",
              "[5 rows x 12 columns]"
            ]
          },
          "metadata": {},
          "execution_count": 424
        }
      ]
    },
    {
      "cell_type": "markdown",
      "metadata": {
        "id": "Evor9wD0y-n2"
      },
      "source": [
        "### Seller Encoding"
      ]
    },
    {
      "cell_type": "code",
      "metadata": {
        "colab": {
          "base_uri": "https://localhost:8080/",
          "height": 435
        },
        "id": "wenx42hXzDo_",
        "outputId": "739232c8-3256-4868-af76-70965337afc1"
      },
      "source": [
        "# seller encoding \n",
        "\n",
        "# Individual >> 74.75% of cars\n",
        "df_encoding['seller_individual'] = [1 if df_encoding.loc[index, 'seller_type'] == 'Individual' else 0 for index in df_encoding.index]\n",
        "\n",
        "# Dealer >> 22.90% of cars\n",
        "df_encoding['seller_dealer'] = [1 if df_encoding.loc[index, 'seller_type'] == 'Dealer' else 0 for index in df_encoding.index]\n",
        "\n",
        "# Other >> 2.35% of cars\n",
        "df_encoding['seller_other'] = [1 if df_encoding.loc[index, 'seller_type'] == 'Trustmark Dealer' else 0 for index in df_encoding.index]\n",
        "\n",
        "\n",
        "df_encoding.head()"
      ],
      "execution_count": 425,
      "outputs": [
        {
          "output_type": "execute_result",
          "data": {
            "text/html": [
              "<div>\n",
              "<style scoped>\n",
              "    .dataframe tbody tr th:only-of-type {\n",
              "        vertical-align: middle;\n",
              "    }\n",
              "\n",
              "    .dataframe tbody tr th {\n",
              "        vertical-align: top;\n",
              "    }\n",
              "\n",
              "    .dataframe thead th {\n",
              "        text-align: right;\n",
              "    }\n",
              "</style>\n",
              "<table border=\"1\" class=\"dataframe\">\n",
              "  <thead>\n",
              "    <tr style=\"text-align: right;\">\n",
              "      <th></th>\n",
              "      <th>name</th>\n",
              "      <th>year</th>\n",
              "      <th>selling_price</th>\n",
              "      <th>km_driven</th>\n",
              "      <th>fuel</th>\n",
              "      <th>seller_type</th>\n",
              "      <th>transmission</th>\n",
              "      <th>owner</th>\n",
              "      <th>brand</th>\n",
              "      <th>fuel_diesel</th>\n",
              "      <th>fuel_petrol</th>\n",
              "      <th>other_fuel</th>\n",
              "      <th>seller_individual</th>\n",
              "      <th>seller_dealer</th>\n",
              "      <th>seller_other</th>\n",
              "    </tr>\n",
              "  </thead>\n",
              "  <tbody>\n",
              "    <tr>\n",
              "      <th>0</th>\n",
              "      <td>Maruti 800 AC</td>\n",
              "      <td>2007</td>\n",
              "      <td>60000</td>\n",
              "      <td>70000</td>\n",
              "      <td>Petrol</td>\n",
              "      <td>Individual</td>\n",
              "      <td>Manual</td>\n",
              "      <td>First Owner</td>\n",
              "      <td>Maruti</td>\n",
              "      <td>0</td>\n",
              "      <td>1</td>\n",
              "      <td>0</td>\n",
              "      <td>1</td>\n",
              "      <td>0</td>\n",
              "      <td>0</td>\n",
              "    </tr>\n",
              "    <tr>\n",
              "      <th>1</th>\n",
              "      <td>Maruti Wagon R LXI Minor</td>\n",
              "      <td>2007</td>\n",
              "      <td>135000</td>\n",
              "      <td>50000</td>\n",
              "      <td>Petrol</td>\n",
              "      <td>Individual</td>\n",
              "      <td>Manual</td>\n",
              "      <td>First Owner</td>\n",
              "      <td>Maruti</td>\n",
              "      <td>0</td>\n",
              "      <td>1</td>\n",
              "      <td>0</td>\n",
              "      <td>1</td>\n",
              "      <td>0</td>\n",
              "      <td>0</td>\n",
              "    </tr>\n",
              "    <tr>\n",
              "      <th>2</th>\n",
              "      <td>Hyundai Verna 1.6 SX</td>\n",
              "      <td>2012</td>\n",
              "      <td>600000</td>\n",
              "      <td>100000</td>\n",
              "      <td>Diesel</td>\n",
              "      <td>Individual</td>\n",
              "      <td>Manual</td>\n",
              "      <td>First Owner</td>\n",
              "      <td>Hyundai</td>\n",
              "      <td>1</td>\n",
              "      <td>0</td>\n",
              "      <td>0</td>\n",
              "      <td>1</td>\n",
              "      <td>0</td>\n",
              "      <td>0</td>\n",
              "    </tr>\n",
              "    <tr>\n",
              "      <th>3</th>\n",
              "      <td>Datsun RediGO T Option</td>\n",
              "      <td>2017</td>\n",
              "      <td>250000</td>\n",
              "      <td>46000</td>\n",
              "      <td>Petrol</td>\n",
              "      <td>Individual</td>\n",
              "      <td>Manual</td>\n",
              "      <td>First Owner</td>\n",
              "      <td>Datsun</td>\n",
              "      <td>0</td>\n",
              "      <td>1</td>\n",
              "      <td>0</td>\n",
              "      <td>1</td>\n",
              "      <td>0</td>\n",
              "      <td>0</td>\n",
              "    </tr>\n",
              "    <tr>\n",
              "      <th>4</th>\n",
              "      <td>Honda Amaze VX i-DTEC</td>\n",
              "      <td>2014</td>\n",
              "      <td>450000</td>\n",
              "      <td>141000</td>\n",
              "      <td>Diesel</td>\n",
              "      <td>Individual</td>\n",
              "      <td>Manual</td>\n",
              "      <td>Second Owner</td>\n",
              "      <td>Honda</td>\n",
              "      <td>1</td>\n",
              "      <td>0</td>\n",
              "      <td>0</td>\n",
              "      <td>1</td>\n",
              "      <td>0</td>\n",
              "      <td>0</td>\n",
              "    </tr>\n",
              "  </tbody>\n",
              "</table>\n",
              "</div>"
            ],
            "text/plain": [
              "                       name  year  ...  seller_dealer  seller_other\n",
              "0             Maruti 800 AC  2007  ...              0             0\n",
              "1  Maruti Wagon R LXI Minor  2007  ...              0             0\n",
              "2      Hyundai Verna 1.6 SX  2012  ...              0             0\n",
              "3    Datsun RediGO T Option  2017  ...              0             0\n",
              "4     Honda Amaze VX i-DTEC  2014  ...              0             0\n",
              "\n",
              "[5 rows x 15 columns]"
            ]
          },
          "metadata": {},
          "execution_count": 425
        }
      ]
    },
    {
      "cell_type": "markdown",
      "metadata": {
        "id": "OnP-bFsf6nwM"
      },
      "source": [
        "### Owner Encoding\n"
      ]
    },
    {
      "cell_type": "code",
      "metadata": {
        "colab": {
          "base_uri": "https://localhost:8080/",
          "height": 435
        },
        "id": "JYUfOS066te1",
        "outputId": "001418ef-c135-408d-9f18-3c899483c6af"
      },
      "source": [
        "# owner encoding\n",
        "\n",
        "# First Owner >> 65.25 of cars\n",
        "df_encoding['owner_first'] = [1 if df_encoding.loc[index, 'owner'] == 'First Owner' else 0 for index in df_encoding.index]\n",
        "\n",
        "# Second Owner >> 25.48 of cars\n",
        "df_encoding['owner_second'] = [1 if df_encoding.loc[index, 'owner'] == 'Second Owner' else 0 for index in df_encoding.index]\n",
        "\n",
        "# Other >> 9.27% of cars \n",
        "df_encoding['other_owner'] = [1 if df_encoding.loc[index, 'owner'] != 'First Owner' and \\\n",
        "                              df_encoding.loc[index, 'owner'] != 'Second Owner' else 0 for index in df_encoding.index]\n",
        "\n",
        "df_encoding.head()\n"
      ],
      "execution_count": 426,
      "outputs": [
        {
          "output_type": "execute_result",
          "data": {
            "text/html": [
              "<div>\n",
              "<style scoped>\n",
              "    .dataframe tbody tr th:only-of-type {\n",
              "        vertical-align: middle;\n",
              "    }\n",
              "\n",
              "    .dataframe tbody tr th {\n",
              "        vertical-align: top;\n",
              "    }\n",
              "\n",
              "    .dataframe thead th {\n",
              "        text-align: right;\n",
              "    }\n",
              "</style>\n",
              "<table border=\"1\" class=\"dataframe\">\n",
              "  <thead>\n",
              "    <tr style=\"text-align: right;\">\n",
              "      <th></th>\n",
              "      <th>name</th>\n",
              "      <th>year</th>\n",
              "      <th>selling_price</th>\n",
              "      <th>km_driven</th>\n",
              "      <th>fuel</th>\n",
              "      <th>seller_type</th>\n",
              "      <th>transmission</th>\n",
              "      <th>owner</th>\n",
              "      <th>brand</th>\n",
              "      <th>fuel_diesel</th>\n",
              "      <th>fuel_petrol</th>\n",
              "      <th>other_fuel</th>\n",
              "      <th>seller_individual</th>\n",
              "      <th>seller_dealer</th>\n",
              "      <th>seller_other</th>\n",
              "      <th>owner_first</th>\n",
              "      <th>owner_second</th>\n",
              "      <th>other_owner</th>\n",
              "    </tr>\n",
              "  </thead>\n",
              "  <tbody>\n",
              "    <tr>\n",
              "      <th>0</th>\n",
              "      <td>Maruti 800 AC</td>\n",
              "      <td>2007</td>\n",
              "      <td>60000</td>\n",
              "      <td>70000</td>\n",
              "      <td>Petrol</td>\n",
              "      <td>Individual</td>\n",
              "      <td>Manual</td>\n",
              "      <td>First Owner</td>\n",
              "      <td>Maruti</td>\n",
              "      <td>0</td>\n",
              "      <td>1</td>\n",
              "      <td>0</td>\n",
              "      <td>1</td>\n",
              "      <td>0</td>\n",
              "      <td>0</td>\n",
              "      <td>1</td>\n",
              "      <td>0</td>\n",
              "      <td>0</td>\n",
              "    </tr>\n",
              "    <tr>\n",
              "      <th>1</th>\n",
              "      <td>Maruti Wagon R LXI Minor</td>\n",
              "      <td>2007</td>\n",
              "      <td>135000</td>\n",
              "      <td>50000</td>\n",
              "      <td>Petrol</td>\n",
              "      <td>Individual</td>\n",
              "      <td>Manual</td>\n",
              "      <td>First Owner</td>\n",
              "      <td>Maruti</td>\n",
              "      <td>0</td>\n",
              "      <td>1</td>\n",
              "      <td>0</td>\n",
              "      <td>1</td>\n",
              "      <td>0</td>\n",
              "      <td>0</td>\n",
              "      <td>1</td>\n",
              "      <td>0</td>\n",
              "      <td>0</td>\n",
              "    </tr>\n",
              "    <tr>\n",
              "      <th>2</th>\n",
              "      <td>Hyundai Verna 1.6 SX</td>\n",
              "      <td>2012</td>\n",
              "      <td>600000</td>\n",
              "      <td>100000</td>\n",
              "      <td>Diesel</td>\n",
              "      <td>Individual</td>\n",
              "      <td>Manual</td>\n",
              "      <td>First Owner</td>\n",
              "      <td>Hyundai</td>\n",
              "      <td>1</td>\n",
              "      <td>0</td>\n",
              "      <td>0</td>\n",
              "      <td>1</td>\n",
              "      <td>0</td>\n",
              "      <td>0</td>\n",
              "      <td>1</td>\n",
              "      <td>0</td>\n",
              "      <td>0</td>\n",
              "    </tr>\n",
              "    <tr>\n",
              "      <th>3</th>\n",
              "      <td>Datsun RediGO T Option</td>\n",
              "      <td>2017</td>\n",
              "      <td>250000</td>\n",
              "      <td>46000</td>\n",
              "      <td>Petrol</td>\n",
              "      <td>Individual</td>\n",
              "      <td>Manual</td>\n",
              "      <td>First Owner</td>\n",
              "      <td>Datsun</td>\n",
              "      <td>0</td>\n",
              "      <td>1</td>\n",
              "      <td>0</td>\n",
              "      <td>1</td>\n",
              "      <td>0</td>\n",
              "      <td>0</td>\n",
              "      <td>1</td>\n",
              "      <td>0</td>\n",
              "      <td>0</td>\n",
              "    </tr>\n",
              "    <tr>\n",
              "      <th>4</th>\n",
              "      <td>Honda Amaze VX i-DTEC</td>\n",
              "      <td>2014</td>\n",
              "      <td>450000</td>\n",
              "      <td>141000</td>\n",
              "      <td>Diesel</td>\n",
              "      <td>Individual</td>\n",
              "      <td>Manual</td>\n",
              "      <td>Second Owner</td>\n",
              "      <td>Honda</td>\n",
              "      <td>1</td>\n",
              "      <td>0</td>\n",
              "      <td>0</td>\n",
              "      <td>1</td>\n",
              "      <td>0</td>\n",
              "      <td>0</td>\n",
              "      <td>0</td>\n",
              "      <td>1</td>\n",
              "      <td>0</td>\n",
              "    </tr>\n",
              "  </tbody>\n",
              "</table>\n",
              "</div>"
            ],
            "text/plain": [
              "                       name  year  ...  owner_second  other_owner\n",
              "0             Maruti 800 AC  2007  ...             0            0\n",
              "1  Maruti Wagon R LXI Minor  2007  ...             0            0\n",
              "2      Hyundai Verna 1.6 SX  2012  ...             0            0\n",
              "3    Datsun RediGO T Option  2017  ...             0            0\n",
              "4     Honda Amaze VX i-DTEC  2014  ...             1            0\n",
              "\n",
              "[5 rows x 18 columns]"
            ]
          },
          "metadata": {},
          "execution_count": 426
        }
      ]
    },
    {
      "cell_type": "markdown",
      "metadata": {
        "id": "STaJGJi6-9Bh"
      },
      "source": [
        "### Transmission Encoding"
      ]
    },
    {
      "cell_type": "code",
      "metadata": {
        "colab": {
          "base_uri": "https://localhost:8080/",
          "height": 435
        },
        "id": "wm6ND2vs-_8i",
        "outputId": "a705a24f-f584-4c95-f3dc-dc270971cf8f"
      },
      "source": [
        "# trasnmission encoding\n",
        "\n",
        "df_encoding = pd.get_dummies(df_encoding, columns=['transmission'])\n",
        "df_encoding.head()"
      ],
      "execution_count": 427,
      "outputs": [
        {
          "output_type": "execute_result",
          "data": {
            "text/html": [
              "<div>\n",
              "<style scoped>\n",
              "    .dataframe tbody tr th:only-of-type {\n",
              "        vertical-align: middle;\n",
              "    }\n",
              "\n",
              "    .dataframe tbody tr th {\n",
              "        vertical-align: top;\n",
              "    }\n",
              "\n",
              "    .dataframe thead th {\n",
              "        text-align: right;\n",
              "    }\n",
              "</style>\n",
              "<table border=\"1\" class=\"dataframe\">\n",
              "  <thead>\n",
              "    <tr style=\"text-align: right;\">\n",
              "      <th></th>\n",
              "      <th>name</th>\n",
              "      <th>year</th>\n",
              "      <th>selling_price</th>\n",
              "      <th>km_driven</th>\n",
              "      <th>fuel</th>\n",
              "      <th>seller_type</th>\n",
              "      <th>owner</th>\n",
              "      <th>brand</th>\n",
              "      <th>fuel_diesel</th>\n",
              "      <th>fuel_petrol</th>\n",
              "      <th>other_fuel</th>\n",
              "      <th>seller_individual</th>\n",
              "      <th>seller_dealer</th>\n",
              "      <th>seller_other</th>\n",
              "      <th>owner_first</th>\n",
              "      <th>owner_second</th>\n",
              "      <th>other_owner</th>\n",
              "      <th>transmission_Automatic</th>\n",
              "      <th>transmission_Manual</th>\n",
              "    </tr>\n",
              "  </thead>\n",
              "  <tbody>\n",
              "    <tr>\n",
              "      <th>0</th>\n",
              "      <td>Maruti 800 AC</td>\n",
              "      <td>2007</td>\n",
              "      <td>60000</td>\n",
              "      <td>70000</td>\n",
              "      <td>Petrol</td>\n",
              "      <td>Individual</td>\n",
              "      <td>First Owner</td>\n",
              "      <td>Maruti</td>\n",
              "      <td>0</td>\n",
              "      <td>1</td>\n",
              "      <td>0</td>\n",
              "      <td>1</td>\n",
              "      <td>0</td>\n",
              "      <td>0</td>\n",
              "      <td>1</td>\n",
              "      <td>0</td>\n",
              "      <td>0</td>\n",
              "      <td>0</td>\n",
              "      <td>1</td>\n",
              "    </tr>\n",
              "    <tr>\n",
              "      <th>1</th>\n",
              "      <td>Maruti Wagon R LXI Minor</td>\n",
              "      <td>2007</td>\n",
              "      <td>135000</td>\n",
              "      <td>50000</td>\n",
              "      <td>Petrol</td>\n",
              "      <td>Individual</td>\n",
              "      <td>First Owner</td>\n",
              "      <td>Maruti</td>\n",
              "      <td>0</td>\n",
              "      <td>1</td>\n",
              "      <td>0</td>\n",
              "      <td>1</td>\n",
              "      <td>0</td>\n",
              "      <td>0</td>\n",
              "      <td>1</td>\n",
              "      <td>0</td>\n",
              "      <td>0</td>\n",
              "      <td>0</td>\n",
              "      <td>1</td>\n",
              "    </tr>\n",
              "    <tr>\n",
              "      <th>2</th>\n",
              "      <td>Hyundai Verna 1.6 SX</td>\n",
              "      <td>2012</td>\n",
              "      <td>600000</td>\n",
              "      <td>100000</td>\n",
              "      <td>Diesel</td>\n",
              "      <td>Individual</td>\n",
              "      <td>First Owner</td>\n",
              "      <td>Hyundai</td>\n",
              "      <td>1</td>\n",
              "      <td>0</td>\n",
              "      <td>0</td>\n",
              "      <td>1</td>\n",
              "      <td>0</td>\n",
              "      <td>0</td>\n",
              "      <td>1</td>\n",
              "      <td>0</td>\n",
              "      <td>0</td>\n",
              "      <td>0</td>\n",
              "      <td>1</td>\n",
              "    </tr>\n",
              "    <tr>\n",
              "      <th>3</th>\n",
              "      <td>Datsun RediGO T Option</td>\n",
              "      <td>2017</td>\n",
              "      <td>250000</td>\n",
              "      <td>46000</td>\n",
              "      <td>Petrol</td>\n",
              "      <td>Individual</td>\n",
              "      <td>First Owner</td>\n",
              "      <td>Datsun</td>\n",
              "      <td>0</td>\n",
              "      <td>1</td>\n",
              "      <td>0</td>\n",
              "      <td>1</td>\n",
              "      <td>0</td>\n",
              "      <td>0</td>\n",
              "      <td>1</td>\n",
              "      <td>0</td>\n",
              "      <td>0</td>\n",
              "      <td>0</td>\n",
              "      <td>1</td>\n",
              "    </tr>\n",
              "    <tr>\n",
              "      <th>4</th>\n",
              "      <td>Honda Amaze VX i-DTEC</td>\n",
              "      <td>2014</td>\n",
              "      <td>450000</td>\n",
              "      <td>141000</td>\n",
              "      <td>Diesel</td>\n",
              "      <td>Individual</td>\n",
              "      <td>Second Owner</td>\n",
              "      <td>Honda</td>\n",
              "      <td>1</td>\n",
              "      <td>0</td>\n",
              "      <td>0</td>\n",
              "      <td>1</td>\n",
              "      <td>0</td>\n",
              "      <td>0</td>\n",
              "      <td>0</td>\n",
              "      <td>1</td>\n",
              "      <td>0</td>\n",
              "      <td>0</td>\n",
              "      <td>1</td>\n",
              "    </tr>\n",
              "  </tbody>\n",
              "</table>\n",
              "</div>"
            ],
            "text/plain": [
              "                       name  year  ...  transmission_Automatic  transmission_Manual\n",
              "0             Maruti 800 AC  2007  ...                       0                    1\n",
              "1  Maruti Wagon R LXI Minor  2007  ...                       0                    1\n",
              "2      Hyundai Verna 1.6 SX  2012  ...                       0                    1\n",
              "3    Datsun RediGO T Option  2017  ...                       0                    1\n",
              "4     Honda Amaze VX i-DTEC  2014  ...                       0                    1\n",
              "\n",
              "[5 rows x 19 columns]"
            ]
          },
          "metadata": {},
          "execution_count": 427
        }
      ]
    },
    {
      "cell_type": "markdown",
      "metadata": {
        "id": "CRVAABAPECv6"
      },
      "source": [
        "### Brand Encoding"
      ]
    },
    {
      "cell_type": "code",
      "metadata": {
        "colab": {
          "base_uri": "https://localhost:8080/",
          "height": 539
        },
        "id": "WHupx9_dEFR2",
        "outputId": "520f7cf6-a7ff-4c2c-9243-1b4519535733"
      },
      "source": [
        "# brand encoding\n",
        "\n",
        "# Maruti >> 29.49% of cars\n",
        "# Hyundai >> 18.92% of cars\n",
        "# Mahindra >> 8.41% of cars\n",
        "# Tata >> 8.32% of cars\n",
        "# Honda >> 5.81% of cars\n",
        "# Ford >> 5.48% of cars\n",
        "\n",
        "brands_encode = ['Maruti', 'Hyundai', 'Mahindra', 'Tata', 'Honda', 'Ford']\n",
        "\n",
        "for el in brands_encode:\n",
        "  df_encoding[f'is_{el}'] = [1 if df_encoding.loc[index, 'brand'] == el else 0 for index in df_encoding.index]\n",
        "\n",
        "\n",
        "# other brands \n",
        "brands_all = list(df_encoding['brand'].unique())\n",
        "other_brands = []\n",
        "\n",
        "for el in brands_all:\n",
        "  if el not in brands_encode:\n",
        "    other_brands.append(el)\n",
        "\n",
        "# if the car brand is in other_brands list mark as 1 in 'is_other_Brand' column\n",
        "df_encoding['is_other_Brand'] = [1 if df_encoding.loc[index, 'brand'] in other_brands else 0 for index in df_encoding.index]\n",
        "\n",
        "df_encoding.tail()"
      ],
      "execution_count": 428,
      "outputs": [
        {
          "output_type": "execute_result",
          "data": {
            "text/html": [
              "<div>\n",
              "<style scoped>\n",
              "    .dataframe tbody tr th:only-of-type {\n",
              "        vertical-align: middle;\n",
              "    }\n",
              "\n",
              "    .dataframe tbody tr th {\n",
              "        vertical-align: top;\n",
              "    }\n",
              "\n",
              "    .dataframe thead th {\n",
              "        text-align: right;\n",
              "    }\n",
              "</style>\n",
              "<table border=\"1\" class=\"dataframe\">\n",
              "  <thead>\n",
              "    <tr style=\"text-align: right;\">\n",
              "      <th></th>\n",
              "      <th>name</th>\n",
              "      <th>year</th>\n",
              "      <th>selling_price</th>\n",
              "      <th>km_driven</th>\n",
              "      <th>fuel</th>\n",
              "      <th>seller_type</th>\n",
              "      <th>owner</th>\n",
              "      <th>brand</th>\n",
              "      <th>fuel_diesel</th>\n",
              "      <th>fuel_petrol</th>\n",
              "      <th>other_fuel</th>\n",
              "      <th>seller_individual</th>\n",
              "      <th>seller_dealer</th>\n",
              "      <th>seller_other</th>\n",
              "      <th>owner_first</th>\n",
              "      <th>owner_second</th>\n",
              "      <th>other_owner</th>\n",
              "      <th>transmission_Automatic</th>\n",
              "      <th>transmission_Manual</th>\n",
              "      <th>is_Maruti</th>\n",
              "      <th>is_Hyundai</th>\n",
              "      <th>is_Mahindra</th>\n",
              "      <th>is_Tata</th>\n",
              "      <th>is_Honda</th>\n",
              "      <th>is_Ford</th>\n",
              "      <th>is_other_Brand</th>\n",
              "    </tr>\n",
              "  </thead>\n",
              "  <tbody>\n",
              "    <tr>\n",
              "      <th>4335</th>\n",
              "      <td>Hyundai i20 Magna 1.4 CRDi (Diesel)</td>\n",
              "      <td>2014</td>\n",
              "      <td>409999</td>\n",
              "      <td>80000</td>\n",
              "      <td>Diesel</td>\n",
              "      <td>Individual</td>\n",
              "      <td>Second Owner</td>\n",
              "      <td>Hyundai</td>\n",
              "      <td>1</td>\n",
              "      <td>0</td>\n",
              "      <td>0</td>\n",
              "      <td>1</td>\n",
              "      <td>0</td>\n",
              "      <td>0</td>\n",
              "      <td>0</td>\n",
              "      <td>1</td>\n",
              "      <td>0</td>\n",
              "      <td>0</td>\n",
              "      <td>1</td>\n",
              "      <td>0</td>\n",
              "      <td>1</td>\n",
              "      <td>0</td>\n",
              "      <td>0</td>\n",
              "      <td>0</td>\n",
              "      <td>0</td>\n",
              "      <td>0</td>\n",
              "    </tr>\n",
              "    <tr>\n",
              "      <th>4336</th>\n",
              "      <td>Hyundai i20 Magna 1.4 CRDi</td>\n",
              "      <td>2014</td>\n",
              "      <td>409999</td>\n",
              "      <td>80000</td>\n",
              "      <td>Diesel</td>\n",
              "      <td>Individual</td>\n",
              "      <td>Second Owner</td>\n",
              "      <td>Hyundai</td>\n",
              "      <td>1</td>\n",
              "      <td>0</td>\n",
              "      <td>0</td>\n",
              "      <td>1</td>\n",
              "      <td>0</td>\n",
              "      <td>0</td>\n",
              "      <td>0</td>\n",
              "      <td>1</td>\n",
              "      <td>0</td>\n",
              "      <td>0</td>\n",
              "      <td>1</td>\n",
              "      <td>0</td>\n",
              "      <td>1</td>\n",
              "      <td>0</td>\n",
              "      <td>0</td>\n",
              "      <td>0</td>\n",
              "      <td>0</td>\n",
              "      <td>0</td>\n",
              "    </tr>\n",
              "    <tr>\n",
              "      <th>4337</th>\n",
              "      <td>Maruti 800 AC BSIII</td>\n",
              "      <td>2009</td>\n",
              "      <td>110000</td>\n",
              "      <td>83000</td>\n",
              "      <td>Petrol</td>\n",
              "      <td>Individual</td>\n",
              "      <td>Second Owner</td>\n",
              "      <td>Maruti</td>\n",
              "      <td>0</td>\n",
              "      <td>1</td>\n",
              "      <td>0</td>\n",
              "      <td>1</td>\n",
              "      <td>0</td>\n",
              "      <td>0</td>\n",
              "      <td>0</td>\n",
              "      <td>1</td>\n",
              "      <td>0</td>\n",
              "      <td>0</td>\n",
              "      <td>1</td>\n",
              "      <td>1</td>\n",
              "      <td>0</td>\n",
              "      <td>0</td>\n",
              "      <td>0</td>\n",
              "      <td>0</td>\n",
              "      <td>0</td>\n",
              "      <td>0</td>\n",
              "    </tr>\n",
              "    <tr>\n",
              "      <th>4338</th>\n",
              "      <td>Hyundai Creta 1.6 CRDi SX Option</td>\n",
              "      <td>2016</td>\n",
              "      <td>865000</td>\n",
              "      <td>90000</td>\n",
              "      <td>Diesel</td>\n",
              "      <td>Individual</td>\n",
              "      <td>First Owner</td>\n",
              "      <td>Hyundai</td>\n",
              "      <td>1</td>\n",
              "      <td>0</td>\n",
              "      <td>0</td>\n",
              "      <td>1</td>\n",
              "      <td>0</td>\n",
              "      <td>0</td>\n",
              "      <td>1</td>\n",
              "      <td>0</td>\n",
              "      <td>0</td>\n",
              "      <td>0</td>\n",
              "      <td>1</td>\n",
              "      <td>0</td>\n",
              "      <td>1</td>\n",
              "      <td>0</td>\n",
              "      <td>0</td>\n",
              "      <td>0</td>\n",
              "      <td>0</td>\n",
              "      <td>0</td>\n",
              "    </tr>\n",
              "    <tr>\n",
              "      <th>4339</th>\n",
              "      <td>Renault KWID RXT</td>\n",
              "      <td>2016</td>\n",
              "      <td>225000</td>\n",
              "      <td>40000</td>\n",
              "      <td>Petrol</td>\n",
              "      <td>Individual</td>\n",
              "      <td>First Owner</td>\n",
              "      <td>Renault</td>\n",
              "      <td>0</td>\n",
              "      <td>1</td>\n",
              "      <td>0</td>\n",
              "      <td>1</td>\n",
              "      <td>0</td>\n",
              "      <td>0</td>\n",
              "      <td>1</td>\n",
              "      <td>0</td>\n",
              "      <td>0</td>\n",
              "      <td>0</td>\n",
              "      <td>1</td>\n",
              "      <td>0</td>\n",
              "      <td>0</td>\n",
              "      <td>0</td>\n",
              "      <td>0</td>\n",
              "      <td>0</td>\n",
              "      <td>0</td>\n",
              "      <td>1</td>\n",
              "    </tr>\n",
              "  </tbody>\n",
              "</table>\n",
              "</div>"
            ],
            "text/plain": [
              "                                     name  year  ...  is_Ford  is_other_Brand\n",
              "4335  Hyundai i20 Magna 1.4 CRDi (Diesel)  2014  ...        0               0\n",
              "4336           Hyundai i20 Magna 1.4 CRDi  2014  ...        0               0\n",
              "4337                  Maruti 800 AC BSIII  2009  ...        0               0\n",
              "4338     Hyundai Creta 1.6 CRDi SX Option  2016  ...        0               0\n",
              "4339                     Renault KWID RXT  2016  ...        0               1\n",
              "\n",
              "[5 rows x 26 columns]"
            ]
          },
          "metadata": {},
          "execution_count": 428
        }
      ]
    },
    {
      "cell_type": "markdown",
      "metadata": {
        "id": "BI9z-9R8Jbit"
      },
      "source": [
        "# Feautures Dataframe"
      ]
    },
    {
      "cell_type": "code",
      "metadata": {
        "colab": {
          "base_uri": "https://localhost:8080/"
        },
        "id": "sRpLdLA5JfTl",
        "outputId": "a204de6a-8abd-4a43-e18c-7236ef1e1a39"
      },
      "source": [
        "# print df columns\n",
        "\n",
        "print(df_encoding.columns)"
      ],
      "execution_count": 429,
      "outputs": [
        {
          "output_type": "stream",
          "name": "stdout",
          "text": [
            "Index(['name', 'year', 'selling_price', 'km_driven', 'fuel', 'seller_type',\n",
            "       'owner', 'brand', 'fuel_diesel', 'fuel_petrol', 'other_fuel',\n",
            "       'seller_individual', 'seller_dealer', 'seller_other', 'owner_first',\n",
            "       'owner_second', 'other_owner', 'transmission_Automatic',\n",
            "       'transmission_Manual', 'is_Maruti', 'is_Hyundai', 'is_Mahindra',\n",
            "       'is_Tata', 'is_Honda', 'is_Ford', 'is_other_Brand'],\n",
            "      dtype='object')\n"
          ]
        }
      ]
    },
    {
      "cell_type": "code",
      "metadata": {
        "colab": {
          "base_uri": "https://localhost:8080/",
          "height": 226
        },
        "id": "9wGnWEJtQnRI",
        "outputId": "a6109799-daab-400d-e2bd-2c92ac5ce261"
      },
      "source": [
        "# features dataframe\n",
        "df_features = df_encoding[['year', 'km_driven', 'fuel_diesel', 'fuel_petrol', 'other_fuel', 'seller_individual', 'seller_dealer',  \\\n",
        "                           'seller_other', 'owner_first', 'owner_second', 'other_owner', 'transmission_Automatic', 'transmission_Manual', \\\n",
        "                           'is_Maruti', 'is_Hyundai', 'is_Mahindra', 'is_Tata', 'is_Honda', 'is_Ford', 'is_other_Brand']]\n",
        "\n",
        "df_features.head()"
      ],
      "execution_count": 430,
      "outputs": [
        {
          "output_type": "execute_result",
          "data": {
            "text/html": [
              "<div>\n",
              "<style scoped>\n",
              "    .dataframe tbody tr th:only-of-type {\n",
              "        vertical-align: middle;\n",
              "    }\n",
              "\n",
              "    .dataframe tbody tr th {\n",
              "        vertical-align: top;\n",
              "    }\n",
              "\n",
              "    .dataframe thead th {\n",
              "        text-align: right;\n",
              "    }\n",
              "</style>\n",
              "<table border=\"1\" class=\"dataframe\">\n",
              "  <thead>\n",
              "    <tr style=\"text-align: right;\">\n",
              "      <th></th>\n",
              "      <th>year</th>\n",
              "      <th>km_driven</th>\n",
              "      <th>fuel_diesel</th>\n",
              "      <th>fuel_petrol</th>\n",
              "      <th>other_fuel</th>\n",
              "      <th>seller_individual</th>\n",
              "      <th>seller_dealer</th>\n",
              "      <th>seller_other</th>\n",
              "      <th>owner_first</th>\n",
              "      <th>owner_second</th>\n",
              "      <th>other_owner</th>\n",
              "      <th>transmission_Automatic</th>\n",
              "      <th>transmission_Manual</th>\n",
              "      <th>is_Maruti</th>\n",
              "      <th>is_Hyundai</th>\n",
              "      <th>is_Mahindra</th>\n",
              "      <th>is_Tata</th>\n",
              "      <th>is_Honda</th>\n",
              "      <th>is_Ford</th>\n",
              "      <th>is_other_Brand</th>\n",
              "    </tr>\n",
              "  </thead>\n",
              "  <tbody>\n",
              "    <tr>\n",
              "      <th>0</th>\n",
              "      <td>2007</td>\n",
              "      <td>70000</td>\n",
              "      <td>0</td>\n",
              "      <td>1</td>\n",
              "      <td>0</td>\n",
              "      <td>1</td>\n",
              "      <td>0</td>\n",
              "      <td>0</td>\n",
              "      <td>1</td>\n",
              "      <td>0</td>\n",
              "      <td>0</td>\n",
              "      <td>0</td>\n",
              "      <td>1</td>\n",
              "      <td>1</td>\n",
              "      <td>0</td>\n",
              "      <td>0</td>\n",
              "      <td>0</td>\n",
              "      <td>0</td>\n",
              "      <td>0</td>\n",
              "      <td>0</td>\n",
              "    </tr>\n",
              "    <tr>\n",
              "      <th>1</th>\n",
              "      <td>2007</td>\n",
              "      <td>50000</td>\n",
              "      <td>0</td>\n",
              "      <td>1</td>\n",
              "      <td>0</td>\n",
              "      <td>1</td>\n",
              "      <td>0</td>\n",
              "      <td>0</td>\n",
              "      <td>1</td>\n",
              "      <td>0</td>\n",
              "      <td>0</td>\n",
              "      <td>0</td>\n",
              "      <td>1</td>\n",
              "      <td>1</td>\n",
              "      <td>0</td>\n",
              "      <td>0</td>\n",
              "      <td>0</td>\n",
              "      <td>0</td>\n",
              "      <td>0</td>\n",
              "      <td>0</td>\n",
              "    </tr>\n",
              "    <tr>\n",
              "      <th>2</th>\n",
              "      <td>2012</td>\n",
              "      <td>100000</td>\n",
              "      <td>1</td>\n",
              "      <td>0</td>\n",
              "      <td>0</td>\n",
              "      <td>1</td>\n",
              "      <td>0</td>\n",
              "      <td>0</td>\n",
              "      <td>1</td>\n",
              "      <td>0</td>\n",
              "      <td>0</td>\n",
              "      <td>0</td>\n",
              "      <td>1</td>\n",
              "      <td>0</td>\n",
              "      <td>1</td>\n",
              "      <td>0</td>\n",
              "      <td>0</td>\n",
              "      <td>0</td>\n",
              "      <td>0</td>\n",
              "      <td>0</td>\n",
              "    </tr>\n",
              "    <tr>\n",
              "      <th>3</th>\n",
              "      <td>2017</td>\n",
              "      <td>46000</td>\n",
              "      <td>0</td>\n",
              "      <td>1</td>\n",
              "      <td>0</td>\n",
              "      <td>1</td>\n",
              "      <td>0</td>\n",
              "      <td>0</td>\n",
              "      <td>1</td>\n",
              "      <td>0</td>\n",
              "      <td>0</td>\n",
              "      <td>0</td>\n",
              "      <td>1</td>\n",
              "      <td>0</td>\n",
              "      <td>0</td>\n",
              "      <td>0</td>\n",
              "      <td>0</td>\n",
              "      <td>0</td>\n",
              "      <td>0</td>\n",
              "      <td>1</td>\n",
              "    </tr>\n",
              "    <tr>\n",
              "      <th>4</th>\n",
              "      <td>2014</td>\n",
              "      <td>141000</td>\n",
              "      <td>1</td>\n",
              "      <td>0</td>\n",
              "      <td>0</td>\n",
              "      <td>1</td>\n",
              "      <td>0</td>\n",
              "      <td>0</td>\n",
              "      <td>0</td>\n",
              "      <td>1</td>\n",
              "      <td>0</td>\n",
              "      <td>0</td>\n",
              "      <td>1</td>\n",
              "      <td>0</td>\n",
              "      <td>0</td>\n",
              "      <td>0</td>\n",
              "      <td>0</td>\n",
              "      <td>1</td>\n",
              "      <td>0</td>\n",
              "      <td>0</td>\n",
              "    </tr>\n",
              "  </tbody>\n",
              "</table>\n",
              "</div>"
            ],
            "text/plain": [
              "   year  km_driven  fuel_diesel  ...  is_Honda  is_Ford  is_other_Brand\n",
              "0  2007      70000            0  ...         0        0               0\n",
              "1  2007      50000            0  ...         0        0               0\n",
              "2  2012     100000            1  ...         0        0               0\n",
              "3  2017      46000            0  ...         0        0               1\n",
              "4  2014     141000            1  ...         1        0               0\n",
              "\n",
              "[5 rows x 20 columns]"
            ]
          },
          "metadata": {},
          "execution_count": 430
        }
      ]
    },
    {
      "cell_type": "markdown",
      "metadata": {
        "id": "hP87xkHIlLpK"
      },
      "source": [
        "### Kilometers Driven Distribution"
      ]
    },
    {
      "cell_type": "code",
      "metadata": {
        "colab": {
          "base_uri": "https://localhost:8080/",
          "height": 405
        },
        "id": "4iDUXs-gZpT8",
        "outputId": "46641947-7c52-4508-a0a9-4aab52e63cc7"
      },
      "source": [
        "# distribution plot\n",
        "\n",
        "f, ax = plt.subplots(figsize=(12, 6))\n",
        "\n",
        "sns.histplot(df_features['km_driven'], color='tan')\n",
        "plt.axvline(df_features['km_driven'].mean(), color='red', linewidth=2, linestyle='dashed', label='Mean')\n",
        "\n",
        "plt.title('Distribution of Km Driven by Cars in CarDekho')\n",
        "plt.legend()\n",
        "plt.show()"
      ],
      "execution_count": 431,
      "outputs": [
        {
          "output_type": "display_data",
          "data": {
            "image/png": "[encoded data removed]",
            "text/plain": [
              "<Figure size 864x432 with 1 Axes>"
            ]
          },
          "metadata": {
            "needs_background": "light"
          }
        }
      ]
    },
    {
      "cell_type": "code",
      "metadata": {
        "colab": {
          "base_uri": "https://localhost:8080/"
        },
        "id": "LgNH5nYajG-e",
        "outputId": "ac083704-1108-4e74-b159-c526dd17addc"
      },
      "source": [
        "# skewness\n",
        "\n",
        "print(f'Km_driven Skewness: {df_features[\"km_driven\"].skew()}')\n",
        "print('The distribution for km_driven is highly skewed to the right')"
      ],
      "execution_count": 432,
      "outputs": [
        {
          "output_type": "stream",
          "name": "stdout",
          "text": [
            "Km_driven Skewness: 2.6690569869843133\n",
            "The distribution for km_driven is highly skewed to the right\n"
          ]
        }
      ]
    },
    {
      "cell_type": "markdown",
      "metadata": {
        "id": "aClK3Gm_lvpA"
      },
      "source": [
        "##### Cube Root Transformation\n",
        "\n",
        "With a Right Skew of 2.66 the model will be trained on a much larger number of cars between 0 - 150,000 km_driven. It will have trouble predicting cars with a higher number of Kms driven. Apply cube root transformation to ['km_driven'] feature"
      ]
    },
    {
      "cell_type": "code",
      "metadata": {
        "colab": {
          "base_uri": "https://localhost:8080/",
          "height": 336
        },
        "id": "_hcReN3i9CbW",
        "outputId": "3dd84743-dfed-4c89-dbf8-8b5a421e1ffd"
      },
      "source": [
        "# cube root transformation of km_driven\n",
        "\n",
        "df_features['km_driven'] = np.power(df_features.km_driven, 1/3)\n",
        "\n",
        "df_features.head()"
      ],
      "execution_count": 433,
      "outputs": [
        {
          "output_type": "stream",
          "name": "stderr",
          "text": [
            "/usr/local/lib/python3.7/dist-packages/ipykernel_launcher.py:3: SettingWithCopyWarning: \n",
            "A value is trying to be set on a copy of a slice from a DataFrame.\n",
            "Try using .loc[row_indexer,col_indexer] = value instead\n",
            "\n",
            "See the caveats in the documentation: https://pandas.pydata.org/pandas-docs/stable/user_guide/indexing.html#returning-a-view-versus-a-copy\n",
            "  This is separate from the ipykernel package so we can avoid doing imports until\n"
          ]
        },
        {
          "output_type": "execute_result",
          "data": {
            "text/html": [
              "<div>\n",
              "<style scoped>\n",
              "    .dataframe tbody tr th:only-of-type {\n",
              "        vertical-align: middle;\n",
              "    }\n",
              "\n",
              "    .dataframe tbody tr th {\n",
              "        vertical-align: top;\n",
              "    }\n",
              "\n",
              "    .dataframe thead th {\n",
              "        text-align: right;\n",
              "    }\n",
              "</style>\n",
              "<table border=\"1\" class=\"dataframe\">\n",
              "  <thead>\n",
              "    <tr style=\"text-align: right;\">\n",
              "      <th></th>\n",
              "      <th>year</th>\n",
              "      <th>km_driven</th>\n",
              "      <th>fuel_diesel</th>\n",
              "      <th>fuel_petrol</th>\n",
              "      <th>other_fuel</th>\n",
              "      <th>seller_individual</th>\n",
              "      <th>seller_dealer</th>\n",
              "      <th>seller_other</th>\n",
              "      <th>owner_first</th>\n",
              "      <th>owner_second</th>\n",
              "      <th>other_owner</th>\n",
              "      <th>transmission_Automatic</th>\n",
              "      <th>transmission_Manual</th>\n",
              "      <th>is_Maruti</th>\n",
              "      <th>is_Hyundai</th>\n",
              "      <th>is_Mahindra</th>\n",
              "      <th>is_Tata</th>\n",
              "      <th>is_Honda</th>\n",
              "      <th>is_Ford</th>\n",
              "      <th>is_other_Brand</th>\n",
              "    </tr>\n",
              "  </thead>\n",
              "  <tbody>\n",
              "    <tr>\n",
              "      <th>0</th>\n",
              "      <td>2007</td>\n",
              "      <td>41.212853</td>\n",
              "      <td>0</td>\n",
              "      <td>1</td>\n",
              "      <td>0</td>\n",
              "      <td>1</td>\n",
              "      <td>0</td>\n",
              "      <td>0</td>\n",
              "      <td>1</td>\n",
              "      <td>0</td>\n",
              "      <td>0</td>\n",
              "      <td>0</td>\n",
              "      <td>1</td>\n",
              "      <td>1</td>\n",
              "      <td>0</td>\n",
              "      <td>0</td>\n",
              "      <td>0</td>\n",
              "      <td>0</td>\n",
              "      <td>0</td>\n",
              "      <td>0</td>\n",
              "    </tr>\n",
              "    <tr>\n",
              "      <th>1</th>\n",
              "      <td>2007</td>\n",
              "      <td>36.840315</td>\n",
              "      <td>0</td>\n",
              "      <td>1</td>\n",
              "      <td>0</td>\n",
              "      <td>1</td>\n",
              "      <td>0</td>\n",
              "      <td>0</td>\n",
              "      <td>1</td>\n",
              "      <td>0</td>\n",
              "      <td>0</td>\n",
              "      <td>0</td>\n",
              "      <td>1</td>\n",
              "      <td>1</td>\n",
              "      <td>0</td>\n",
              "      <td>0</td>\n",
              "      <td>0</td>\n",
              "      <td>0</td>\n",
              "      <td>0</td>\n",
              "      <td>0</td>\n",
              "    </tr>\n",
              "    <tr>\n",
              "      <th>2</th>\n",
              "      <td>2012</td>\n",
              "      <td>46.415888</td>\n",
              "      <td>1</td>\n",
              "      <td>0</td>\n",
              "      <td>0</td>\n",
              "      <td>1</td>\n",
              "      <td>0</td>\n",
              "      <td>0</td>\n",
              "      <td>1</td>\n",
              "      <td>0</td>\n",
              "      <td>0</td>\n",
              "      <td>0</td>\n",
              "      <td>1</td>\n",
              "      <td>0</td>\n",
              "      <td>1</td>\n",
              "      <td>0</td>\n",
              "      <td>0</td>\n",
              "      <td>0</td>\n",
              "      <td>0</td>\n",
              "      <td>0</td>\n",
              "    </tr>\n",
              "    <tr>\n",
              "      <th>3</th>\n",
              "      <td>2017</td>\n",
              "      <td>35.830479</td>\n",
              "      <td>0</td>\n",
              "      <td>1</td>\n",
              "      <td>0</td>\n",
              "      <td>1</td>\n",
              "      <td>0</td>\n",
              "      <td>0</td>\n",
              "      <td>1</td>\n",
              "      <td>0</td>\n",
              "      <td>0</td>\n",
              "      <td>0</td>\n",
              "      <td>1</td>\n",
              "      <td>0</td>\n",
              "      <td>0</td>\n",
              "      <td>0</td>\n",
              "      <td>0</td>\n",
              "      <td>0</td>\n",
              "      <td>0</td>\n",
              "      <td>1</td>\n",
              "    </tr>\n",
              "    <tr>\n",
              "      <th>4</th>\n",
              "      <td>2014</td>\n",
              "      <td>52.048279</td>\n",
              "      <td>1</td>\n",
              "      <td>0</td>\n",
              "      <td>0</td>\n",
              "      <td>1</td>\n",
              "      <td>0</td>\n",
              "      <td>0</td>\n",
              "      <td>0</td>\n",
              "      <td>1</td>\n",
              "      <td>0</td>\n",
              "      <td>0</td>\n",
              "      <td>1</td>\n",
              "      <td>0</td>\n",
              "      <td>0</td>\n",
              "      <td>0</td>\n",
              "      <td>0</td>\n",
              "      <td>1</td>\n",
              "      <td>0</td>\n",
              "      <td>0</td>\n",
              "    </tr>\n",
              "  </tbody>\n",
              "</table>\n",
              "</div>"
            ],
            "text/plain": [
              "   year  km_driven  fuel_diesel  ...  is_Honda  is_Ford  is_other_Brand\n",
              "0  2007  41.212853            0  ...         0        0               0\n",
              "1  2007  36.840315            0  ...         0        0               0\n",
              "2  2012  46.415888            1  ...         0        0               0\n",
              "3  2017  35.830479            0  ...         0        0               1\n",
              "4  2014  52.048279            1  ...         1        0               0\n",
              "\n",
              "[5 rows x 20 columns]"
            ]
          },
          "metadata": {},
          "execution_count": 433
        }
      ]
    },
    {
      "cell_type": "code",
      "metadata": {
        "colab": {
          "base_uri": "https://localhost:8080/",
          "height": 405
        },
        "id": "537rG2E23LYe",
        "outputId": "b155f860-dd7a-4297-b11c-2f7e42572ef0"
      },
      "source": [
        "# distribution plot - cubic root transformation\n",
        "\n",
        "f, ax = plt.subplots(figsize=(12, 6))\n",
        "\n",
        "sns.histplot(df_features['km_driven'], color='gold')\n",
        "plt.axvline(df_features['km_driven'].mean(), linewidth=2, linestyle='dashed', color='black', label='Mean')\n",
        "\n",
        "plt.legend()\n",
        "plt.title('Distribution of Cars Km Driven in CarDekho - Cube Root Transformation')\n",
        "plt.show()"
      ],
      "execution_count": 434,
      "outputs": [
        {
          "output_type": "display_data",
          "data": {
            "image/png": "[encoded data removed]",
            "text/plain": [
              "<Figure size 864x432 with 1 Axes>"
            ]
          },
          "metadata": {
            "needs_background": "light"
          }
        }
      ]
    },
    {
      "cell_type": "markdown",
      "metadata": {
        "id": "1kxJMGjL6QQe"
      },
      "source": [
        "### Standarization of Features\n",
        " - Since 'years' and 'km_driven are in different scales. Standarization or Z-Score normalization is used to make all features with mean=0 and stdDev = 1\n",
        " - Z = (value - mean) / stdDev\n"
      ]
    },
    {
      "cell_type": "code",
      "metadata": {
        "colab": {
          "base_uri": "https://localhost:8080/"
        },
        "id": "1AQMesDG6ZSj",
        "outputId": "b82d8150-f67e-44ad-f1c2-476a72ebe550"
      },
      "source": [
        "# import Standarization module\n",
        "from sklearn.preprocessing import StandardScaler\n",
        "\n",
        "# initialize Scaler\n",
        "scaler = StandardScaler()\n",
        "\n",
        "features_standard = scaler.fit_transform(df_features)\n",
        "\n",
        "\n",
        "features_standard[1]"
      ],
      "execution_count": 435,
      "outputs": [
        {
          "output_type": "execute_result",
          "data": {
            "text/plain": [
              "array([-1.44507431, -0.14460283, -0.99219635,  1.02189871, -0.12234075,\n",
              "        0.58125253, -0.54504232, -0.15513851,  0.7297163 , -0.58480026,\n",
              "       -0.31950317, -0.33927557,  0.33927557,  1.54616461, -0.48301648,\n",
              "       -0.30302459, -0.30120809, -0.24828177, -0.2408744 , -0.55534783])"
            ]
          },
          "metadata": {},
          "execution_count": 435
        }
      ]
    },
    {
      "cell_type": "markdown",
      "metadata": {
        "id": "CfAfMoClBRYV"
      },
      "source": [
        "### Correlation of Features"
      ]
    },
    {
      "cell_type": "code",
      "metadata": {
        "colab": {
          "base_uri": "https://localhost:8080/",
          "height": 832
        },
        "id": "PaiCJdC_BWvs",
        "outputId": "dcf3ad0f-6626-44a5-e04b-978d2520ae61"
      },
      "source": [
        "# heatmap of features correlation\n",
        "\n",
        "f, ax = plt.subplots(figsize=(14, 12))\n",
        "\n",
        "sns.heatmap(df_features.corr(), vmin=-1, vmax=1, annot=True, cmap='YlGnBu')\n",
        "\n",
        "plt.title('Features Correlation Heatmap', pad=12)\n",
        "plt.show()"
      ],
      "execution_count": 436,
      "outputs": [
        {
          "output_type": "display_data",
          "data": {
            "image/png": "[encoded data removed]",
            "text/plain": [
              "<Figure size 1008x864 with 2 Axes>"
            ]
          },
          "metadata": {
            "needs_background": "light"
          }
        }
      ]
    },
    {
      "cell_type": "markdown",
      "metadata": {
        "id": "qrQhDMPC_pNG"
      },
      "source": [
        "# Target DataFrame"
      ]
    },
    {
      "cell_type": "code",
      "metadata": {
        "colab": {
          "base_uri": "https://localhost:8080/",
          "height": 206
        },
        "id": "rUpTnRmK_v11",
        "outputId": "05dc345e-1571-4ef9-fdf2-871452edb76c"
      },
      "source": [
        "# target >> 'selling_price'\n",
        "\n",
        "df_target = df_encoding[['selling_price']]\n",
        "df_target.head()"
      ],
      "execution_count": 437,
      "outputs": [
        {
          "output_type": "execute_result",
          "data": {
            "text/html": [
              "<div>\n",
              "<style scoped>\n",
              "    .dataframe tbody tr th:only-of-type {\n",
              "        vertical-align: middle;\n",
              "    }\n",
              "\n",
              "    .dataframe tbody tr th {\n",
              "        vertical-align: top;\n",
              "    }\n",
              "\n",
              "    .dataframe thead th {\n",
              "        text-align: right;\n",
              "    }\n",
              "</style>\n",
              "<table border=\"1\" class=\"dataframe\">\n",
              "  <thead>\n",
              "    <tr style=\"text-align: right;\">\n",
              "      <th></th>\n",
              "      <th>selling_price</th>\n",
              "    </tr>\n",
              "  </thead>\n",
              "  <tbody>\n",
              "    <tr>\n",
              "      <th>0</th>\n",
              "      <td>60000</td>\n",
              "    </tr>\n",
              "    <tr>\n",
              "      <th>1</th>\n",
              "      <td>135000</td>\n",
              "    </tr>\n",
              "    <tr>\n",
              "      <th>2</th>\n",
              "      <td>600000</td>\n",
              "    </tr>\n",
              "    <tr>\n",
              "      <th>3</th>\n",
              "      <td>250000</td>\n",
              "    </tr>\n",
              "    <tr>\n",
              "      <th>4</th>\n",
              "      <td>450000</td>\n",
              "    </tr>\n",
              "  </tbody>\n",
              "</table>\n",
              "</div>"
            ],
            "text/plain": [
              "   selling_price\n",
              "0          60000\n",
              "1         135000\n",
              "2         600000\n",
              "3         250000\n",
              "4         450000"
            ]
          },
          "metadata": {},
          "execution_count": 437
        }
      ]
    },
    {
      "cell_type": "code",
      "metadata": {
        "colab": {
          "base_uri": "https://localhost:8080/",
          "height": 405
        },
        "id": "5W6DWXdKAQK9",
        "outputId": "3aecf843-749f-4c2a-c244-ec58a19f4e82"
      },
      "source": [
        "# distribution of selling price\n",
        "\n",
        "f, ax = plt.subplots(figsize=(12, 6))\n",
        "\n",
        "sns.histplot(df_target['selling_price'], color='mediumseagreen')\n",
        "plt.axvline(df_target['selling_price'].mean(), linestyle='dashed', linewidth=2, color='red', label='Mean')\n",
        "\n",
        "plt.legend()\n",
        "plt.title('Distribution of Cars Selling Price in CarDekho')\n",
        "plt.show()"
      ],
      "execution_count": 438,
      "outputs": [
        {
          "output_type": "display_data",
          "data": {
            "image/png": "[encoded data removed]",
            "text/plain": [
              "<Figure size 864x432 with 1 Axes>"
            ]
          },
          "metadata": {
            "needs_background": "light"
          }
        }
      ]
    },
    {
      "cell_type": "code",
      "metadata": {
        "colab": {
          "base_uri": "https://localhost:8080/"
        },
        "id": "-l7SdbLEBBpC",
        "outputId": "da328aab-3203-4347-8d79-7cf665358f41"
      },
      "source": [
        "# skewness of distribution\n",
        "\n",
        "print(f'Selling Price Skewness: {df_target[\"selling_price\"].skew()}')\n",
        "print('The distribution for selling_price is highly skewed to the right')\n",
        "print('The model will be trained on a much larger number of lower priced cars, it will have trouble predicting expensive vehicles')"
      ],
      "execution_count": 439,
      "outputs": [
        {
          "output_type": "stream",
          "name": "stdout",
          "text": [
            "Selling Price Skewness: 4.892021472306356\n",
            "The distribution for selling_price is highly skewed to the right\n",
            "The model will be trained on a much larger number of lower priced cars, it will have trouble predicting expensive vehicles\n"
          ]
        }
      ]
    },
    {
      "cell_type": "code",
      "metadata": {
        "colab": {
          "base_uri": "https://localhost:8080/",
          "height": 316
        },
        "id": "w4UQXOO0FHHV",
        "outputId": "19fac579-f816-4a81-819b-c20496917fa3"
      },
      "source": [
        "# cubic root transformation\n",
        "\n",
        "df_target['selling_price'] = np.power(df_target.selling_price, 1/3)\n",
        "\n",
        "df_target.head()"
      ],
      "execution_count": 440,
      "outputs": [
        {
          "output_type": "stream",
          "name": "stderr",
          "text": [
            "/usr/local/lib/python3.7/dist-packages/ipykernel_launcher.py:3: SettingWithCopyWarning: \n",
            "A value is trying to be set on a copy of a slice from a DataFrame.\n",
            "Try using .loc[row_indexer,col_indexer] = value instead\n",
            "\n",
            "See the caveats in the documentation: https://pandas.pydata.org/pandas-docs/stable/user_guide/indexing.html#returning-a-view-versus-a-copy\n",
            "  This is separate from the ipykernel package so we can avoid doing imports until\n"
          ]
        },
        {
          "output_type": "execute_result",
          "data": {
            "text/html": [
              "<div>\n",
              "<style scoped>\n",
              "    .dataframe tbody tr th:only-of-type {\n",
              "        vertical-align: middle;\n",
              "    }\n",
              "\n",
              "    .dataframe tbody tr th {\n",
              "        vertical-align: top;\n",
              "    }\n",
              "\n",
              "    .dataframe thead th {\n",
              "        text-align: right;\n",
              "    }\n",
              "</style>\n",
              "<table border=\"1\" class=\"dataframe\">\n",
              "  <thead>\n",
              "    <tr style=\"text-align: right;\">\n",
              "      <th></th>\n",
              "      <th>selling_price</th>\n",
              "    </tr>\n",
              "  </thead>\n",
              "  <tbody>\n",
              "    <tr>\n",
              "      <th>0</th>\n",
              "      <td>39.148676</td>\n",
              "    </tr>\n",
              "    <tr>\n",
              "      <th>1</th>\n",
              "      <td>51.299278</td>\n",
              "    </tr>\n",
              "    <tr>\n",
              "      <th>2</th>\n",
              "      <td>84.343267</td>\n",
              "    </tr>\n",
              "    <tr>\n",
              "      <th>3</th>\n",
              "      <td>62.996052</td>\n",
              "    </tr>\n",
              "    <tr>\n",
              "      <th>4</th>\n",
              "      <td>76.630943</td>\n",
              "    </tr>\n",
              "  </tbody>\n",
              "</table>\n",
              "</div>"
            ],
            "text/plain": [
              "   selling_price\n",
              "0      39.148676\n",
              "1      51.299278\n",
              "2      84.343267\n",
              "3      62.996052\n",
              "4      76.630943"
            ]
          },
          "metadata": {},
          "execution_count": 440
        }
      ]
    },
    {
      "cell_type": "code",
      "metadata": {
        "colab": {
          "base_uri": "https://localhost:8080/",
          "height": 405
        },
        "id": "0l99VNS3FmQm",
        "outputId": "75965327-897a-4bce-a97a-1c983ff15922"
      },
      "source": [
        "# distribution after transformation\n",
        "\n",
        "f, ax = plt.subplots(figsize=(12, 6))\n",
        "\n",
        "sns.histplot(df_target['selling_price'], color='salmon')\n",
        "plt.axvline(df_target['selling_price'].mean(), linestyle='dashed', linewidth=2, color='black', label='Mean')\n",
        "\n",
        "plt.legend()\n",
        "plt.title('Distribution of Cars Selling Price in CarDekho - Cubic Root Transformation')\n",
        "plt.show()"
      ],
      "execution_count": 441,
      "outputs": [
        {
          "output_type": "display_data",
          "data": {
            "image/png": "[encoded data removed]",
            "text/plain": [
              "<Figure size 864x432 with 1 Axes>"
            ]
          },
          "metadata": {
            "needs_background": "light"
          }
        }
      ]
    },
    {
      "cell_type": "code",
      "metadata": {
        "colab": {
          "base_uri": "https://localhost:8080/"
        },
        "id": "pdShBsRaHFlk",
        "outputId": "389557b9-e2c8-4b76-9efe-89b572b7ca38"
      },
      "source": [
        "# shape of targets\n",
        "df_target.shape"
      ],
      "execution_count": 442,
      "outputs": [
        {
          "output_type": "execute_result",
          "data": {
            "text/plain": [
              "(4340, 1)"
            ]
          },
          "metadata": {},
          "execution_count": 442
        }
      ]
    },
    {
      "cell_type": "markdown",
      "metadata": {
        "id": "8f8yp_GZHOfV"
      },
      "source": [
        "# Linear Regression Model"
      ]
    },
    {
      "cell_type": "code",
      "metadata": {
        "colab": {
          "base_uri": "https://localhost:8080/"
        },
        "id": "VjD3tQt6Ftb8",
        "outputId": "d557d39a-ac7a-4a74-862c-9d333177606a"
      },
      "source": [
        "# turn df_target to array\n",
        "targets = np.array(df_target)\n",
        "targets"
      ],
      "execution_count": 443,
      "outputs": [
        {
          "output_type": "execute_result",
          "data": {
            "text/plain": [
              "array([[39.14867641],\n",
              "       [51.2992784 ],\n",
              "       [84.34326653],\n",
              "       ...,\n",
              "       [47.91419857],\n",
              "       [95.28079435],\n",
              "       [60.82201996]])"
            ]
          },
          "metadata": {},
          "execution_count": 443
        }
      ]
    },
    {
      "cell_type": "code",
      "metadata": {
        "colab": {
          "base_uri": "https://localhost:8080/"
        },
        "id": "-VxhKasOEP82",
        "outputId": "d527dac2-0865-46fc-b3b2-4522c4b70055"
      },
      "source": [
        "# split data into train and test\n",
        "from sklearn.model_selection import train_test_split\n",
        "\n",
        "features_train, features_test, targets_train, targets_test = train_test_split(features_standard, targets, test_size=0.2, random_state=100)\n",
        "\n",
        "print(f'features_train shape: {features_train.shape}')\n",
        "print(f'features_test shape: {features_test.shape}')\n",
        "print(f'targets_train shape: {targets_train.shape}')\n",
        "print(f'targets_test shape: {targets_test.shape}')"
      ],
      "execution_count": 444,
      "outputs": [
        {
          "output_type": "stream",
          "name": "stdout",
          "text": [
            "features_train shape: (3472, 20)\n",
            "features_test shape: (868, 20)\n",
            "targets_train shape: (3472, 1)\n",
            "targets_test shape: (868, 1)\n"
          ]
        }
      ]
    },
    {
      "cell_type": "code",
      "metadata": {
        "colab": {
          "base_uri": "https://localhost:8080/"
        },
        "id": "syMUAKnvGvQn",
        "outputId": "7fc99e3b-e7f1-4bd3-de1d-6723de74f41b"
      },
      "source": [
        "# import LinearRegression module\n",
        "from sklearn.linear_model import LinearRegression\n",
        "\n",
        "# create model\n",
        "model = LinearRegression()\n",
        "# fit model\n",
        "model.fit(features_train, targets_train)"
      ],
      "execution_count": 445,
      "outputs": [
        {
          "output_type": "execute_result",
          "data": {
            "text/plain": [
              "LinearRegression(copy_X=True, fit_intercept=True, n_jobs=None, normalize=False)"
            ]
          },
          "metadata": {},
          "execution_count": 445
        }
      ]
    },
    {
      "cell_type": "code",
      "metadata": {
        "colab": {
          "base_uri": "https://localhost:8080/"
        },
        "id": "Ce5tlapvHZX6",
        "outputId": "df165c84-e552-4505-a424-2e014aa629dc"
      },
      "source": [
        "# get coefficients and intercept\n",
        "\n",
        "coefficients = model.coef_\n",
        "intercept = model.intercept_\n",
        "\n",
        "print(f'Intercept: {intercept}')\n",
        "print(f'Coefficients: {coefficients}')"
      ],
      "execution_count": 446,
      "outputs": [
        {
          "output_type": "stream",
          "name": "stdout",
          "text": [
            "Intercept: [73.22382617]\n",
            "Coefficients: [[ 9.32142761e+00 -2.05052632e+00  7.98634939e+12  7.98472095e+12\n",
            "   1.92535464e+12  2.84390924e+13  2.75059211e+13  9.91632142e+12\n",
            "   2.12736541e+13  1.94689428e+13  1.29522638e+13  6.70805728e+11\n",
            "   6.70805728e+11  7.85184137e+11  6.74352592e+11  4.77882160e+11\n",
            "   4.75495476e+11  4.02681366e+11  3.92005469e+11  7.30830009e+11]]\n"
          ]
        }
      ]
    },
    {
      "cell_type": "code",
      "metadata": {
        "colab": {
          "base_uri": "https://localhost:8080/"
        },
        "id": "tREvTDZMIBRX",
        "outputId": "1754faa8-5615-476f-8290-a24128c6d5c0"
      },
      "source": [
        "# zip coefficients to their feature name \n",
        "\n",
        "list(zip(list(df_features.columns), coefficients[0]))"
      ],
      "execution_count": 447,
      "outputs": [
        {
          "output_type": "execute_result",
          "data": {
            "text/plain": [
              "[('year', 9.321427607973543),\n",
              " ('km_driven', -2.050526321175072),\n",
              " ('fuel_diesel', 7986349390829.775),\n",
              " ('fuel_petrol', 7984720953658.831),\n",
              " ('other_fuel', 1925354635164.799),\n",
              " ('seller_individual', 28439092438615.22),\n",
              " ('seller_dealer', 27505921141024.934),\n",
              " ('seller_other', 9916321417441.63),\n",
              " ('owner_first', 21273654069166.465),\n",
              " ('owner_second', 19468942788215.73),\n",
              " ('other_owner', 12952263767668.469),\n",
              " ('transmission_Automatic', 670805728032.9761),\n",
              " ('transmission_Manual', 670805728025.89),\n",
              " ('is_Maruti', 785184137367.7958),\n",
              " ('is_Hyundai', 674352591980.7997),\n",
              " ('is_Mahindra', 477882159845.51843),\n",
              " ('is_Tata', 475495476414.28705),\n",
              " ('is_Honda', 402681365925.149),\n",
              " ('is_Ford', 392005468674.51874),\n",
              " ('is_other_Brand', 730830008864.0022)]"
            ]
          },
          "metadata": {},
          "execution_count": 447
        }
      ]
    },
    {
      "cell_type": "code",
      "metadata": {
        "colab": {
          "base_uri": "https://localhost:8080/"
        },
        "id": "Oc9TPAY1Jale",
        "outputId": "f9254f98-811f-4ba3-c7b8-3d2821f7c5a9"
      },
      "source": [
        "# predict y_predicted with test data\n",
        "targets_predicted = model.predict(features_test)\n",
        "\n",
        "# print prediction of first car vs actual value\n",
        "list(zip(targets_predicted[0], targets_test[0]))"
      ],
      "execution_count": 450,
      "outputs": [
        {
          "output_type": "execute_result",
          "data": {
            "text/plain": [
              "[(91.89765429563496, 90.85602964160697)]"
            ]
          },
          "metadata": {},
          "execution_count": 450
        }
      ]
    },
    {
      "cell_type": "code",
      "metadata": {
        "colab": {
          "base_uri": "https://localhost:8080/"
        },
        "id": "XMANXJvvIt8M",
        "outputId": "b075f18a-7cf2-4c5e-d977-af935ccfd3c4"
      },
      "source": [
        "# model accuracy on training data\n",
        "train_score = model.score(features_train, targets_train)\n",
        "print(f'Train Score: {train_score}')\n",
        "\n",
        "# model accuracy on test data\n",
        "test_score = model.score(features_test, targets_test)\n",
        "print(f'Test Score: {test_score}')"
      ],
      "execution_count": 449,
      "outputs": [
        {
          "output_type": "stream",
          "name": "stdout",
          "text": [
            "Train Score: 0.6712799018640881\n",
            "Test Score: 0.6958950760177179\n"
          ]
        }
      ]
    },
    {
      "cell_type": "markdown",
      "metadata": {
        "id": "01BVQ4-qOgdZ"
      },
      "source": [
        "- The features explain 69.58% of variation in a cars's selling price in CarDekho dealership"
      ]
    },
    {
      "cell_type": "code",
      "metadata": {
        "colab": {
          "base_uri": "https://localhost:8080/",
          "height": 414
        },
        "id": "6Yz4ZS7nMme9",
        "outputId": "e1430b1c-4375-4921-a8b8-f3fc5464db0b"
      },
      "source": [
        "# plot target vs predicted target \n",
        "\n",
        "f, ax = plt.subplots(figsize=(10,6))\n",
        "\n",
        "plt.scatter(targets_test, y_predicted, alpha=0.4, color='purple')\n",
        "# plot line\n",
        "plt.plot(range(170), range(170), color='purple')\n",
        "\n",
        "plt.xlabel('Target: $Y$')\n",
        "plt.ylabel('Predicted Target: $\\hatY$')\n",
        "plt.title('Target Vs Predcited Target', pad=12)\n",
        "plt.show()"
      ],
      "execution_count": 462,
      "outputs": [
        {
          "output_type": "display_data",
          "data": {
            "image/png": "[encoded data removed]",
            "text/plain": [
              "<Figure size 720x432 with 1 Axes>"
            ]
          },
          "metadata": {
            "needs_background": "light"
          }
        }
      ]
    }
  ]
}